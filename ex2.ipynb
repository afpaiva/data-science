{
  "nbformat": 4,
  "nbformat_minor": 0,
  "metadata": {
    "colab": {
      "name": "Untitled0.ipynb",
      "provenance": [],
      "authorship_tag": "ABX9TyPNYyXN9uxSzazAdW04f8+j",
      "include_colab_link": true
    },
    "kernelspec": {
      "name": "python3",
      "display_name": "Python 3"
    },
    "language_info": {
      "name": "python"
    }
  },
  "cells": [
    {
      "cell_type": "markdown",
      "metadata": {
        "id": "view-in-github",
        "colab_type": "text"
      },
      "source": [
        "<a href=\"https://colab.research.google.com/github/afpaiva/data-science/blob/2nd-task/ex2.ipynb\" target=\"_parent\"><img src=\"https://colab.research.google.com/assets/colab-badge.svg\" alt=\"Open In Colab\"/></a>"
      ]
    },
    {
      "cell_type": "markdown",
      "source": [
        "# Tarefa 3.4 - Análise Exploratória e Estatística Descritiva - Visualização Gráfica\n",
        "\n",
        "- 1) Clonar o repositório de dados da disciplina (DSBD) hospedado no GitHUb."
      ],
      "metadata": {
        "id": "s4SR-1Y0wMb2"
      }
    },
    {
      "cell_type": "code",
      "execution_count": 45,
      "metadata": {
        "id": "1tVMO2uGtjM7"
      },
      "outputs": [],
      "source": [
        "#!git clone https://github.com/malegopc/DSBD.git"
      ]
    },
    {
      "cell_type": "markdown",
      "source": [
        "Importações das bibliotecas"
      ],
      "metadata": {
        "id": "Tk4Gfkixwq5D"
      }
    },
    {
      "cell_type": "code",
      "source": [
        "import pandas as pd\n",
        "import statistics as stat\n",
        "import numpy as np\n",
        "import matplotlib.pyplot as plt"
      ],
      "metadata": {
        "id": "jtjIeoOcwou1"
      },
      "execution_count": 46,
      "outputs": []
    },
    {
      "cell_type": "markdown",
      "source": [
        "- 2) Ler o dataset \"Hourly_wages/hourly_wages.csv\" como dataframe utilizando a biblioteca Pandas e mostrar as 5 primeiras e 5 últimas linhas."
      ],
      "metadata": {
        "id": "7-oUW6oQwf6O"
      }
    },
    {
      "cell_type": "code",
      "source": [
        "data = pd.read_csv(\"/content/DSBD/Datasets/Hourly_wages/hourly_wages.csv\")\n",
        "df = pd.DataFrame(data)\n",
        "df.head(5)"
      ],
      "metadata": {
        "colab": {
          "base_uri": "https://localhost:8080/",
          "height": 270
        },
        "id": "UGU4cquKwknB",
        "outputId": "0437dd55-7f12-4363-eb75-65d728d04587"
      },
      "execution_count": 47,
      "outputs": [
        {
          "output_type": "execute_result",
          "data": {
            "text/plain": [
              "   wage_per_hour  union  education_yrs  experience_yrs  age  female  marr  \\\n",
              "0           5.10      0              8              21   35       1     1   \n",
              "1           4.95      0              9              42   57       1     1   \n",
              "2           6.67      0             12               1   19       0     0   \n",
              "3           4.00      0             12               4   22       0     0   \n",
              "4           7.50      0             12              17   35       0     1   \n",
              "\n",
              "   south  manufacturing  construction  \n",
              "0      0              1             0  \n",
              "1      0              1             0  \n",
              "2      0              1             0  \n",
              "3      0              0             0  \n",
              "4      0              0             0  "
            ],
            "text/html": [
              "\n",
              "  <div id=\"df-877aa51e-3aa6-456d-b918-a43bbd75f35d\">\n",
              "    <div class=\"colab-df-container\">\n",
              "      <div>\n",
              "<style scoped>\n",
              "    .dataframe tbody tr th:only-of-type {\n",
              "        vertical-align: middle;\n",
              "    }\n",
              "\n",
              "    .dataframe tbody tr th {\n",
              "        vertical-align: top;\n",
              "    }\n",
              "\n",
              "    .dataframe thead th {\n",
              "        text-align: right;\n",
              "    }\n",
              "</style>\n",
              "<table border=\"1\" class=\"dataframe\">\n",
              "  <thead>\n",
              "    <tr style=\"text-align: right;\">\n",
              "      <th></th>\n",
              "      <th>wage_per_hour</th>\n",
              "      <th>union</th>\n",
              "      <th>education_yrs</th>\n",
              "      <th>experience_yrs</th>\n",
              "      <th>age</th>\n",
              "      <th>female</th>\n",
              "      <th>marr</th>\n",
              "      <th>south</th>\n",
              "      <th>manufacturing</th>\n",
              "      <th>construction</th>\n",
              "    </tr>\n",
              "  </thead>\n",
              "  <tbody>\n",
              "    <tr>\n",
              "      <th>0</th>\n",
              "      <td>5.10</td>\n",
              "      <td>0</td>\n",
              "      <td>8</td>\n",
              "      <td>21</td>\n",
              "      <td>35</td>\n",
              "      <td>1</td>\n",
              "      <td>1</td>\n",
              "      <td>0</td>\n",
              "      <td>1</td>\n",
              "      <td>0</td>\n",
              "    </tr>\n",
              "    <tr>\n",
              "      <th>1</th>\n",
              "      <td>4.95</td>\n",
              "      <td>0</td>\n",
              "      <td>9</td>\n",
              "      <td>42</td>\n",
              "      <td>57</td>\n",
              "      <td>1</td>\n",
              "      <td>1</td>\n",
              "      <td>0</td>\n",
              "      <td>1</td>\n",
              "      <td>0</td>\n",
              "    </tr>\n",
              "    <tr>\n",
              "      <th>2</th>\n",
              "      <td>6.67</td>\n",
              "      <td>0</td>\n",
              "      <td>12</td>\n",
              "      <td>1</td>\n",
              "      <td>19</td>\n",
              "      <td>0</td>\n",
              "      <td>0</td>\n",
              "      <td>0</td>\n",
              "      <td>1</td>\n",
              "      <td>0</td>\n",
              "    </tr>\n",
              "    <tr>\n",
              "      <th>3</th>\n",
              "      <td>4.00</td>\n",
              "      <td>0</td>\n",
              "      <td>12</td>\n",
              "      <td>4</td>\n",
              "      <td>22</td>\n",
              "      <td>0</td>\n",
              "      <td>0</td>\n",
              "      <td>0</td>\n",
              "      <td>0</td>\n",
              "      <td>0</td>\n",
              "    </tr>\n",
              "    <tr>\n",
              "      <th>4</th>\n",
              "      <td>7.50</td>\n",
              "      <td>0</td>\n",
              "      <td>12</td>\n",
              "      <td>17</td>\n",
              "      <td>35</td>\n",
              "      <td>0</td>\n",
              "      <td>1</td>\n",
              "      <td>0</td>\n",
              "      <td>0</td>\n",
              "      <td>0</td>\n",
              "    </tr>\n",
              "  </tbody>\n",
              "</table>\n",
              "</div>\n",
              "      <button class=\"colab-df-convert\" onclick=\"convertToInteractive('df-877aa51e-3aa6-456d-b918-a43bbd75f35d')\"\n",
              "              title=\"Convert this dataframe to an interactive table.\"\n",
              "              style=\"display:none;\">\n",
              "        \n",
              "  <svg xmlns=\"http://www.w3.org/2000/svg\" height=\"24px\"viewBox=\"0 0 24 24\"\n",
              "       width=\"24px\">\n",
              "    <path d=\"M0 0h24v24H0V0z\" fill=\"none\"/>\n",
              "    <path d=\"M18.56 5.44l.94 2.06.94-2.06 2.06-.94-2.06-.94-.94-2.06-.94 2.06-2.06.94zm-11 1L8.5 8.5l.94-2.06 2.06-.94-2.06-.94L8.5 2.5l-.94 2.06-2.06.94zm10 10l.94 2.06.94-2.06 2.06-.94-2.06-.94-.94-2.06-.94 2.06-2.06.94z\"/><path d=\"M17.41 7.96l-1.37-1.37c-.4-.4-.92-.59-1.43-.59-.52 0-1.04.2-1.43.59L10.3 9.45l-7.72 7.72c-.78.78-.78 2.05 0 2.83L4 21.41c.39.39.9.59 1.41.59.51 0 1.02-.2 1.41-.59l7.78-7.78 2.81-2.81c.8-.78.8-2.07 0-2.86zM5.41 20L4 18.59l7.72-7.72 1.47 1.35L5.41 20z\"/>\n",
              "  </svg>\n",
              "      </button>\n",
              "      \n",
              "  <style>\n",
              "    .colab-df-container {\n",
              "      display:flex;\n",
              "      flex-wrap:wrap;\n",
              "      gap: 12px;\n",
              "    }\n",
              "\n",
              "    .colab-df-convert {\n",
              "      background-color: #E8F0FE;\n",
              "      border: none;\n",
              "      border-radius: 50%;\n",
              "      cursor: pointer;\n",
              "      display: none;\n",
              "      fill: #1967D2;\n",
              "      height: 32px;\n",
              "      padding: 0 0 0 0;\n",
              "      width: 32px;\n",
              "    }\n",
              "\n",
              "    .colab-df-convert:hover {\n",
              "      background-color: #E2EBFA;\n",
              "      box-shadow: 0px 1px 2px rgba(60, 64, 67, 0.3), 0px 1px 3px 1px rgba(60, 64, 67, 0.15);\n",
              "      fill: #174EA6;\n",
              "    }\n",
              "\n",
              "    [theme=dark] .colab-df-convert {\n",
              "      background-color: #3B4455;\n",
              "      fill: #D2E3FC;\n",
              "    }\n",
              "\n",
              "    [theme=dark] .colab-df-convert:hover {\n",
              "      background-color: #434B5C;\n",
              "      box-shadow: 0px 1px 3px 1px rgba(0, 0, 0, 0.15);\n",
              "      filter: drop-shadow(0px 1px 2px rgba(0, 0, 0, 0.3));\n",
              "      fill: #FFFFFF;\n",
              "    }\n",
              "  </style>\n",
              "\n",
              "      <script>\n",
              "        const buttonEl =\n",
              "          document.querySelector('#df-877aa51e-3aa6-456d-b918-a43bbd75f35d button.colab-df-convert');\n",
              "        buttonEl.style.display =\n",
              "          google.colab.kernel.accessAllowed ? 'block' : 'none';\n",
              "\n",
              "        async function convertToInteractive(key) {\n",
              "          const element = document.querySelector('#df-877aa51e-3aa6-456d-b918-a43bbd75f35d');\n",
              "          const dataTable =\n",
              "            await google.colab.kernel.invokeFunction('convertToInteractive',\n",
              "                                                     [key], {});\n",
              "          if (!dataTable) return;\n",
              "\n",
              "          const docLinkHtml = 'Like what you see? Visit the ' +\n",
              "            '<a target=\"_blank\" href=https://colab.research.google.com/notebooks/data_table.ipynb>data table notebook</a>'\n",
              "            + ' to learn more about interactive tables.';\n",
              "          element.innerHTML = '';\n",
              "          dataTable['output_type'] = 'display_data';\n",
              "          await google.colab.output.renderOutput(dataTable, element);\n",
              "          const docLink = document.createElement('div');\n",
              "          docLink.innerHTML = docLinkHtml;\n",
              "          element.appendChild(docLink);\n",
              "        }\n",
              "      </script>\n",
              "    </div>\n",
              "  </div>\n",
              "  "
            ]
          },
          "metadata": {},
          "execution_count": 47
        }
      ]
    },
    {
      "cell_type": "code",
      "source": [
        "df.tail(5)"
      ],
      "metadata": {
        "colab": {
          "base_uri": "https://localhost:8080/",
          "height": 270
        },
        "id": "IhXUfIRNwzHM",
        "outputId": "79451f87-0673-47b1-ba64-f8aaab999997"
      },
      "execution_count": 48,
      "outputs": [
        {
          "output_type": "execute_result",
          "data": {
            "text/plain": [
              "     wage_per_hour  union  education_yrs  experience_yrs  age  female  marr  \\\n",
              "529          11.36      0             18               5   29       0     0   \n",
              "530           6.10      0             12              33   51       1     1   \n",
              "531          23.25      1             17              25   48       1     1   \n",
              "532          19.88      1             12              13   31       0     1   \n",
              "533          15.38      0             16              33   55       0     1   \n",
              "\n",
              "     south  manufacturing  construction  \n",
              "529      0              0             0  \n",
              "530      0              0             0  \n",
              "531      0              0             0  \n",
              "532      1              0             0  \n",
              "533      0              1             0  "
            ],
            "text/html": [
              "\n",
              "  <div id=\"df-94330f47-384d-499e-88b2-7973acb2c847\">\n",
              "    <div class=\"colab-df-container\">\n",
              "      <div>\n",
              "<style scoped>\n",
              "    .dataframe tbody tr th:only-of-type {\n",
              "        vertical-align: middle;\n",
              "    }\n",
              "\n",
              "    .dataframe tbody tr th {\n",
              "        vertical-align: top;\n",
              "    }\n",
              "\n",
              "    .dataframe thead th {\n",
              "        text-align: right;\n",
              "    }\n",
              "</style>\n",
              "<table border=\"1\" class=\"dataframe\">\n",
              "  <thead>\n",
              "    <tr style=\"text-align: right;\">\n",
              "      <th></th>\n",
              "      <th>wage_per_hour</th>\n",
              "      <th>union</th>\n",
              "      <th>education_yrs</th>\n",
              "      <th>experience_yrs</th>\n",
              "      <th>age</th>\n",
              "      <th>female</th>\n",
              "      <th>marr</th>\n",
              "      <th>south</th>\n",
              "      <th>manufacturing</th>\n",
              "      <th>construction</th>\n",
              "    </tr>\n",
              "  </thead>\n",
              "  <tbody>\n",
              "    <tr>\n",
              "      <th>529</th>\n",
              "      <td>11.36</td>\n",
              "      <td>0</td>\n",
              "      <td>18</td>\n",
              "      <td>5</td>\n",
              "      <td>29</td>\n",
              "      <td>0</td>\n",
              "      <td>0</td>\n",
              "      <td>0</td>\n",
              "      <td>0</td>\n",
              "      <td>0</td>\n",
              "    </tr>\n",
              "    <tr>\n",
              "      <th>530</th>\n",
              "      <td>6.10</td>\n",
              "      <td>0</td>\n",
              "      <td>12</td>\n",
              "      <td>33</td>\n",
              "      <td>51</td>\n",
              "      <td>1</td>\n",
              "      <td>1</td>\n",
              "      <td>0</td>\n",
              "      <td>0</td>\n",
              "      <td>0</td>\n",
              "    </tr>\n",
              "    <tr>\n",
              "      <th>531</th>\n",
              "      <td>23.25</td>\n",
              "      <td>1</td>\n",
              "      <td>17</td>\n",
              "      <td>25</td>\n",
              "      <td>48</td>\n",
              "      <td>1</td>\n",
              "      <td>1</td>\n",
              "      <td>0</td>\n",
              "      <td>0</td>\n",
              "      <td>0</td>\n",
              "    </tr>\n",
              "    <tr>\n",
              "      <th>532</th>\n",
              "      <td>19.88</td>\n",
              "      <td>1</td>\n",
              "      <td>12</td>\n",
              "      <td>13</td>\n",
              "      <td>31</td>\n",
              "      <td>0</td>\n",
              "      <td>1</td>\n",
              "      <td>1</td>\n",
              "      <td>0</td>\n",
              "      <td>0</td>\n",
              "    </tr>\n",
              "    <tr>\n",
              "      <th>533</th>\n",
              "      <td>15.38</td>\n",
              "      <td>0</td>\n",
              "      <td>16</td>\n",
              "      <td>33</td>\n",
              "      <td>55</td>\n",
              "      <td>0</td>\n",
              "      <td>1</td>\n",
              "      <td>0</td>\n",
              "      <td>1</td>\n",
              "      <td>0</td>\n",
              "    </tr>\n",
              "  </tbody>\n",
              "</table>\n",
              "</div>\n",
              "      <button class=\"colab-df-convert\" onclick=\"convertToInteractive('df-94330f47-384d-499e-88b2-7973acb2c847')\"\n",
              "              title=\"Convert this dataframe to an interactive table.\"\n",
              "              style=\"display:none;\">\n",
              "        \n",
              "  <svg xmlns=\"http://www.w3.org/2000/svg\" height=\"24px\"viewBox=\"0 0 24 24\"\n",
              "       width=\"24px\">\n",
              "    <path d=\"M0 0h24v24H0V0z\" fill=\"none\"/>\n",
              "    <path d=\"M18.56 5.44l.94 2.06.94-2.06 2.06-.94-2.06-.94-.94-2.06-.94 2.06-2.06.94zm-11 1L8.5 8.5l.94-2.06 2.06-.94-2.06-.94L8.5 2.5l-.94 2.06-2.06.94zm10 10l.94 2.06.94-2.06 2.06-.94-2.06-.94-.94-2.06-.94 2.06-2.06.94z\"/><path d=\"M17.41 7.96l-1.37-1.37c-.4-.4-.92-.59-1.43-.59-.52 0-1.04.2-1.43.59L10.3 9.45l-7.72 7.72c-.78.78-.78 2.05 0 2.83L4 21.41c.39.39.9.59 1.41.59.51 0 1.02-.2 1.41-.59l7.78-7.78 2.81-2.81c.8-.78.8-2.07 0-2.86zM5.41 20L4 18.59l7.72-7.72 1.47 1.35L5.41 20z\"/>\n",
              "  </svg>\n",
              "      </button>\n",
              "      \n",
              "  <style>\n",
              "    .colab-df-container {\n",
              "      display:flex;\n",
              "      flex-wrap:wrap;\n",
              "      gap: 12px;\n",
              "    }\n",
              "\n",
              "    .colab-df-convert {\n",
              "      background-color: #E8F0FE;\n",
              "      border: none;\n",
              "      border-radius: 50%;\n",
              "      cursor: pointer;\n",
              "      display: none;\n",
              "      fill: #1967D2;\n",
              "      height: 32px;\n",
              "      padding: 0 0 0 0;\n",
              "      width: 32px;\n",
              "    }\n",
              "\n",
              "    .colab-df-convert:hover {\n",
              "      background-color: #E2EBFA;\n",
              "      box-shadow: 0px 1px 2px rgba(60, 64, 67, 0.3), 0px 1px 3px 1px rgba(60, 64, 67, 0.15);\n",
              "      fill: #174EA6;\n",
              "    }\n",
              "\n",
              "    [theme=dark] .colab-df-convert {\n",
              "      background-color: #3B4455;\n",
              "      fill: #D2E3FC;\n",
              "    }\n",
              "\n",
              "    [theme=dark] .colab-df-convert:hover {\n",
              "      background-color: #434B5C;\n",
              "      box-shadow: 0px 1px 3px 1px rgba(0, 0, 0, 0.15);\n",
              "      filter: drop-shadow(0px 1px 2px rgba(0, 0, 0, 0.3));\n",
              "      fill: #FFFFFF;\n",
              "    }\n",
              "  </style>\n",
              "\n",
              "      <script>\n",
              "        const buttonEl =\n",
              "          document.querySelector('#df-94330f47-384d-499e-88b2-7973acb2c847 button.colab-df-convert');\n",
              "        buttonEl.style.display =\n",
              "          google.colab.kernel.accessAllowed ? 'block' : 'none';\n",
              "\n",
              "        async function convertToInteractive(key) {\n",
              "          const element = document.querySelector('#df-94330f47-384d-499e-88b2-7973acb2c847');\n",
              "          const dataTable =\n",
              "            await google.colab.kernel.invokeFunction('convertToInteractive',\n",
              "                                                     [key], {});\n",
              "          if (!dataTable) return;\n",
              "\n",
              "          const docLinkHtml = 'Like what you see? Visit the ' +\n",
              "            '<a target=\"_blank\" href=https://colab.research.google.com/notebooks/data_table.ipynb>data table notebook</a>'\n",
              "            + ' to learn more about interactive tables.';\n",
              "          element.innerHTML = '';\n",
              "          dataTable['output_type'] = 'display_data';\n",
              "          await google.colab.output.renderOutput(dataTable, element);\n",
              "          const docLink = document.createElement('div');\n",
              "          docLink.innerHTML = docLinkHtml;\n",
              "          element.appendChild(docLink);\n",
              "        }\n",
              "      </script>\n",
              "    </div>\n",
              "  </div>\n",
              "  "
            ]
          },
          "metadata": {},
          "execution_count": 48
        }
      ]
    },
    {
      "cell_type": "markdown",
      "source": [
        "- 3) Mostrar os histogramas dos atributos: education_yrs, experience_yrs e age num mesmo quadro de plotagem (usando subplots)."
      ],
      "metadata": {
        "id": "KgsIOjtrw35E"
      }
    },
    {
      "cell_type": "code",
      "source": [
        "plt.subplot(2,2,1)\n",
        "plt.hist(data.education_yrs)\n",
        "plt.subplot(2,2,2)\n",
        "plt.hist(data.experience_yrs)\n",
        "plt.subplot(2,2,3)\n",
        "plt.hist(data.age)\n",
        "plt.show()"
      ],
      "metadata": {
        "colab": {
          "base_uri": "https://localhost:8080/",
          "height": 265
        },
        "id": "uJRoEl0Lw6iN",
        "outputId": "14441893-542a-4387-a41f-3236538b05f8"
      },
      "execution_count": 49,
      "outputs": [
        {
          "output_type": "display_data",
          "data": {
            "text/plain": [
              "<Figure size 432x288 with 3 Axes>"
            ],
            "image/png": "[encoded data removed]"
          },
          "metadata": {
            "needs_background": "light"
          }
        }
      ]
    },
    {
      "cell_type": "markdown",
      "source": [
        "- 4) Mostrar os gráficos de setores (pie chart) de cada um dos atributos: union, female, marr, south, manufacturing e construction num mesmo quadro de plotagem (usando subplots)."
      ],
      "metadata": {
        "id": "btaMZKi3z31S"
      }
    },
    {
      "cell_type": "code",
      "source": [
        "labels1 = ['UNION', 'FEMALE']\n",
        "data1 = [df.union.sum(), df.female.sum()]\n",
        "labels2 = ['MARRIAGE', 'SOUTH']\n",
        "data2 = [df.marr.sum(), df.south.sum()]\n",
        "labels3 = ['MANUFACTURING', 'CONSTRUCTION']\n",
        "data3 = [df.manufacturing.sum(), df.construction.sum()]\n",
        "\n",
        "plt.subplot(2,2,1)\n",
        "plt.pie(data1, labels = labels1)\n",
        "plt.title('First pie chart')\n",
        "\n",
        "plt.subplot(2,2,2)\n",
        "plt.pie(data2, labels = labels2)\n",
        "plt.title('Second pie chart')\n",
        "\n",
        "plt.subplot(2,2,3)\n",
        "plt.pie(data3, labels = labels3)\n",
        "plt.title('Third pie chart')\n",
        "\n",
        "plt.show()"
      ],
      "metadata": {
        "colab": {
          "base_uri": "https://localhost:8080/",
          "height": 264
        },
        "id": "yJstgNRxz6Z8",
        "outputId": "7e2f4ad1-1202-4cfc-b661-c87d39000152"
      },
      "execution_count": 50,
      "outputs": [
        {
          "output_type": "display_data",
          "data": {
            "text/plain": [
              "<Figure size 432x288 with 3 Axes>"
            ],
            "image/png": "[encoded data removed]"
          },
          "metadata": {}
        }
      ]
    },
    {
      "cell_type": "markdown",
      "source": [
        "- 5) Mostrar os boxplots das variáveis education_yrs, experience_yrs e age num mesmo quadro de plotagem (usando subplots)."
      ],
      "metadata": {
        "id": "-RPmysRN2yzh"
      }
    },
    {
      "cell_type": "code",
      "source": [
        "plt.subplot(2,2,1)\n",
        "plt.boxplot(df.education_yrs)\n",
        "plt.title('Education years')\n",
        "\n",
        "plt.subplot(2,2,2)\n",
        "plt.boxplot(df.experience_yrs)\n",
        "plt.title('Experience years')\n",
        "\n",
        "plt.subplot(2,2,3)\n",
        "plt.boxplot(df.age)\n",
        "plt.title('Age')\n",
        "\n",
        "plt.show()"
      ],
      "metadata": {
        "colab": {
          "base_uri": "https://localhost:8080/",
          "height": 281
        },
        "id": "aGbUlvSN26Po",
        "outputId": "27eaca7b-f2ec-4ee1-be57-2753f718575a"
      },
      "execution_count": 51,
      "outputs": [
        {
          "output_type": "display_data",
          "data": {
            "text/plain": [
              "<Figure size 432x288 with 3 Axes>"
            ],
            "image/png": "[encoded data removed]"
          },
          "metadata": {
            "needs_background": "light"
          }
        }
      ]
    },
    {
      "cell_type": "markdown",
      "source": [
        "- 6) Mostre lado a lado os boxplots da variável age discriminados por sexo (female)."
      ],
      "metadata": {
        "id": "TYfOhUQG5jwB"
      }
    },
    {
      "cell_type": "code",
      "source": [
        "plt.subplot(2,2,1)\n",
        "plt.boxplot(df.age[df.female == 0])\n",
        "plt.ylim(15, 70)\n",
        "plt.title('Age - Men')\n",
        "\n",
        "plt.subplot(2,2,2)\n",
        "plt.boxplot(df.age[df.female == 1])\n",
        "plt.ylim(15, 70)\n",
        "plt.title('Age - Women')\n",
        "\n",
        "plt.show()"
      ],
      "metadata": {
        "colab": {
          "base_uri": "https://localhost:8080/",
          "height": 163
        },
        "id": "nqjRf92B5lsm",
        "outputId": "bca5fcf3-5b76-47c5-9f94-f1eaab47bda9"
      },
      "execution_count": 52,
      "outputs": [
        {
          "output_type": "display_data",
          "data": {
            "text/plain": [
              "<Figure size 432x288 with 2 Axes>"
            ],
            "image/png": "[encoded data removed]"
          },
          "metadata": {
            "needs_background": "light"
          }
        }
      ]
    },
    {
      "cell_type": "markdown",
      "source": [
        "- 7) Responda observando os boxplots construídos no item anterior:\n",
        "\n",
        "i) Qual sexo apresenta maior variabilidade (dispersão) de idade?\n",
        "\n",
        "- Masculino, pois demonstra uma variação maior entre o 3º quartil e o limite superior.\n",
        "\n",
        "ii) Qual é aproximadamente o 2o. quartil das idades das mulheres?\n",
        "\n",
        "- ~35\n",
        "\n",
        "iii) Qual é aproximadamente o 1o. quartil das idades dos homens?\n",
        "\n",
        "- ~28"
      ],
      "metadata": {
        "id": "aJt-_-uoNgj6"
      }
    },
    {
      "cell_type": "markdown",
      "source": [
        "- 8)Mostre lado a lado os boxplots da variável wage_per_hour discriminados por sexo (female)."
      ],
      "metadata": {
        "id": "K7oRijS9Otsc"
      }
    },
    {
      "cell_type": "code",
      "source": [
        "plt.subplot(2,2,1)\n",
        "plt.boxplot(df.wage_per_hour[df.female == 0])\n",
        "plt.ylim(0, 45)\n",
        "plt.title('Wage/h - Men')\n",
        "\n",
        "plt.subplot(2,2,2)\n",
        "plt.boxplot(df.wage_per_hour[df.female == 1])\n",
        "plt.ylim(0, 45)\n",
        "plt.title('Wage/h - Women')\n",
        "\n",
        "plt.show()"
      ],
      "metadata": {
        "id": "DW_nX7hbN1rG",
        "outputId": "03d012a9-c383-4cfb-fada-a7c1d475e94e",
        "colab": {
          "base_uri": "https://localhost:8080/",
          "height": 163
        }
      },
      "execution_count": 53,
      "outputs": [
        {
          "output_type": "display_data",
          "data": {
            "text/plain": [
              "<Figure size 432x288 with 2 Axes>"
            ],
            "image/png": "[encoded data removed]"
          },
          "metadata": {
            "needs_background": "light"
          }
        }
      ]
    },
    {
      "cell_type": "markdown",
      "source": [
        "i) Analise comparativamente os boxplots do item anterior e comente as informações que podem ser exploradas a respeito dos salários por hora de homens e mulhores. Quais conclusões podemos obter?"
      ],
      "metadata": {
        "id": "QF7h58fKPEYV"
      }
    },
    {
      "cell_type": "markdown",
      "source": [
        "- Pode ser verificar pelo 3º quartil e limite superior que os maiores salários são os dos homens. No entanto poucos valores dos salários das mulheres apresentaram valores acima do limite superior e superiores ao dos homens."
      ],
      "metadata": {
        "id": "03MThXo0PK5Z"
      }
    },
    {
      "cell_type": "markdown",
      "source": [
        "- 8) Mostre lado a lado os boxplots da variável wage_per_hour discriminados por estado civil (marr)."
      ],
      "metadata": {
        "id": "pD56WJFZRRst"
      }
    },
    {
      "cell_type": "code",
      "source": [
        "plt.subplot(2,2,1)\n",
        "plt.boxplot(df.wage_per_hour[df.marr == 0])\n",
        "plt.ylim(0, 45)\n",
        "plt.title('Wage/h - Single')\n",
        "\n",
        "plt.subplot(2,2,2)\n",
        "plt.boxplot(df.wage_per_hour[df.marr == 1])\n",
        "plt.ylim(0, 45)\n",
        "plt.title('Wage/h - Married')\n",
        "\n",
        "plt.show()"
      ],
      "metadata": {
        "id": "QqFIqx8WRUoh",
        "outputId": "e5e1fc03-31da-45aa-c627-35450c3d7e74",
        "colab": {
          "base_uri": "https://localhost:8080/",
          "height": 163
        }
      },
      "execution_count": 54,
      "outputs": [
        {
          "output_type": "display_data",
          "data": {
            "text/plain": [
              "<Figure size 432x288 with 2 Axes>"
            ],
            "image/png": "[encoded data removed]"
          },
          "metadata": {
            "needs_background": "light"
          }
        }
      ]
    },
    {
      "cell_type": "markdown",
      "source": [
        "i) Analise comparativamente os boxplots do item anterior e comente as informações que podem ser exploradas a respeito dos salários por hora de casados e não casados. Quais conclusões podemos obter?"
      ],
      "metadata": {
        "id": "Sj1KuvKVRlIj"
      }
    },
    {
      "cell_type": "markdown",
      "source": [
        "É possível observar pelo limite superior que os salários das pessoas casadas são superiores aos das solteiras."
      ],
      "metadata": {
        "id": "XXx4IAlKRqzJ"
      }
    }
  ]
}