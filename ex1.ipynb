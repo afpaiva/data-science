{
  "nbformat": 4,
  "nbformat_minor": 0,
  "metadata": {
    "colab": {
      "name": "ex1.ipynb",
      "provenance": [],
      "authorship_tag": "ABX9TyM3WK1fsN5Mnu0eOMEbf0A6",
      "include_colab_link": true
    },
    "kernelspec": {
      "name": "python3",
      "display_name": "Python 3"
    },
    "language_info": {
      "name": "python"
    }
  },
  "cells": [
    {
      "cell_type": "markdown",
      "metadata": {
        "id": "view-in-github",
        "colab_type": "text"
      },
      "source": [
        "<a href=\"https://colab.research.google.com/github/afpaiva/data-science/blob/1st-task/ex1.ipynb\" target=\"_parent\"><img src=\"https://colab.research.google.com/assets/colab-badge.svg\" alt=\"Open In Colab\"/></a>"
      ]
    },
    {
      "cell_type": "markdown",
      "source": [
        "# Tarefa 3.3 - Análise Exploratória e Estatística Descritiva em Python\n",
        "\n",
        "- 1) Clonar o repositório de dados da disciplina (DSBD) hospedado no GitHUb."
      ],
      "metadata": {
        "id": "t_UXJ3d77Yfs"
      }
    },
    {
      "cell_type": "code",
      "execution_count": 100,
      "metadata": {
        "id": "hB2RtpRt4Qfz",
        "colab": {
          "base_uri": "https://localhost:8080/"
        },
        "outputId": "cf27aca5-4200-44fd-9734-c8e0c0e6d190"
      },
      "outputs": [
        {
          "output_type": "stream",
          "name": "stdout",
          "text": [
            "Cloning into 'DSBD'...\n",
            "remote: Enumerating objects: 362, done.\u001b[K\n",
            "remote: Counting objects: 100% (362/362), done.\u001b[K\n",
            "remote: Compressing objects: 100% (339/339), done.\u001b[K\n",
            "remote: Total 362 (delta 166), reused 0 (delta 0), pack-reused 0\u001b[K\n",
            "Receiving objects: 100% (362/362), 6.14 MiB | 5.13 MiB/s, done.\n",
            "Resolving deltas: 100% (166/166), done.\n"
          ]
        }
      ],
      "source": [
        "!git clone https://github.com/malegopc/DSBD.git"
      ]
    },
    {
      "cell_type": "markdown",
      "source": [
        "Importações das bibliotecas"
      ],
      "metadata": {
        "id": "YmRBQTyZlKQw"
      }
    },
    {
      "cell_type": "code",
      "source": [
        "import pandas as pd\n",
        "import statistics as stat\n",
        "import numpy as np"
      ],
      "metadata": {
        "id": "K-mdxOiVlHix"
      },
      "execution_count": 101,
      "outputs": []
    },
    {
      "cell_type": "markdown",
      "source": [
        "/content/DSBD/Datasets/Hourly_wages/hourly_wages.csv\n",
        "\n",
        "- 2) Ler o dataset \"Hourly_wages/hourly_wages.csv\" como dataframe utilizando a biblioteca Pandas e mostrar as 5 primeiras e as 5 últimas linhas do dataset."
      ],
      "metadata": {
        "id": "fAgmTbNL9Vmq"
      }
    },
    {
      "cell_type": "code",
      "source": [
        "data = pd.read_csv(\"/content/DSBD/Datasets/Hourly_wages/hourly_wages.csv\")\n",
        "df = pd.DataFrame(data)\n",
        "df.head(5)"
      ],
      "metadata": {
        "colab": {
          "base_uri": "https://localhost:8080/",
          "height": 206
        },
        "id": "D4BWwpow9i41",
        "outputId": "bbe9e291-7c34-4fad-ac99-31e39ef0dc74"
      },
      "execution_count": 102,
      "outputs": [
        {
          "output_type": "execute_result",
          "data": {
            "text/plain": [
              "   wage_per_hour  union  education_yrs  experience_yrs  age  female  marr  \\\n",
              "0           5.10      0              8              21   35       1     1   \n",
              "1           4.95      0              9              42   57       1     1   \n",
              "2           6.67      0             12               1   19       0     0   \n",
              "3           4.00      0             12               4   22       0     0   \n",
              "4           7.50      0             12              17   35       0     1   \n",
              "\n",
              "   south  manufacturing  construction  \n",
              "0      0              1             0  \n",
              "1      0              1             0  \n",
              "2      0              1             0  \n",
              "3      0              0             0  \n",
              "4      0              0             0  "
            ],
            "text/html": [
              "\n",
              "  <div id=\"df-d586f7d0-794a-47d4-8a9a-6668410ccf9b\">\n",
              "    <div class=\"colab-df-container\">\n",
              "      <div>\n",
              "<style scoped>\n",
              "    .dataframe tbody tr th:only-of-type {\n",
              "        vertical-align: middle;\n",
              "    }\n",
              "\n",
              "    .dataframe tbody tr th {\n",
              "        vertical-align: top;\n",
              "    }\n",
              "\n",
              "    .dataframe thead th {\n",
              "        text-align: right;\n",
              "    }\n",
              "</style>\n",
              "<table border=\"1\" class=\"dataframe\">\n",
              "  <thead>\n",
              "    <tr style=\"text-align: right;\">\n",
              "      <th></th>\n",
              "      <th>wage_per_hour</th>\n",
              "      <th>union</th>\n",
              "      <th>education_yrs</th>\n",
              "      <th>experience_yrs</th>\n",
              "      <th>age</th>\n",
              "      <th>female</th>\n",
              "      <th>marr</th>\n",
              "      <th>south</th>\n",
              "      <th>manufacturing</th>\n",
              "      <th>construction</th>\n",
              "    </tr>\n",
              "  </thead>\n",
              "  <tbody>\n",
              "    <tr>\n",
              "      <th>0</th>\n",
              "      <td>5.10</td>\n",
              "      <td>0</td>\n",
              "      <td>8</td>\n",
              "      <td>21</td>\n",
              "      <td>35</td>\n",
              "      <td>1</td>\n",
              "      <td>1</td>\n",
              "      <td>0</td>\n",
              "      <td>1</td>\n",
              "      <td>0</td>\n",
              "    </tr>\n",
              "    <tr>\n",
              "      <th>1</th>\n",
              "      <td>4.95</td>\n",
              "      <td>0</td>\n",
              "      <td>9</td>\n",
              "      <td>42</td>\n",
              "      <td>57</td>\n",
              "      <td>1</td>\n",
              "      <td>1</td>\n",
              "      <td>0</td>\n",
              "      <td>1</td>\n",
              "      <td>0</td>\n",
              "    </tr>\n",
              "    <tr>\n",
              "      <th>2</th>\n",
              "      <td>6.67</td>\n",
              "      <td>0</td>\n",
              "      <td>12</td>\n",
              "      <td>1</td>\n",
              "      <td>19</td>\n",
              "      <td>0</td>\n",
              "      <td>0</td>\n",
              "      <td>0</td>\n",
              "      <td>1</td>\n",
              "      <td>0</td>\n",
              "    </tr>\n",
              "    <tr>\n",
              "      <th>3</th>\n",
              "      <td>4.00</td>\n",
              "      <td>0</td>\n",
              "      <td>12</td>\n",
              "      <td>4</td>\n",
              "      <td>22</td>\n",
              "      <td>0</td>\n",
              "      <td>0</td>\n",
              "      <td>0</td>\n",
              "      <td>0</td>\n",
              "      <td>0</td>\n",
              "    </tr>\n",
              "    <tr>\n",
              "      <th>4</th>\n",
              "      <td>7.50</td>\n",
              "      <td>0</td>\n",
              "      <td>12</td>\n",
              "      <td>17</td>\n",
              "      <td>35</td>\n",
              "      <td>0</td>\n",
              "      <td>1</td>\n",
              "      <td>0</td>\n",
              "      <td>0</td>\n",
              "      <td>0</td>\n",
              "    </tr>\n",
              "  </tbody>\n",
              "</table>\n",
              "</div>\n",
              "      <button class=\"colab-df-convert\" onclick=\"convertToInteractive('df-d586f7d0-794a-47d4-8a9a-6668410ccf9b')\"\n",
              "              title=\"Convert this dataframe to an interactive table.\"\n",
              "              style=\"display:none;\">\n",
              "        \n",
              "  <svg xmlns=\"http://www.w3.org/2000/svg\" height=\"24px\"viewBox=\"0 0 24 24\"\n",
              "       width=\"24px\">\n",
              "    <path d=\"M0 0h24v24H0V0z\" fill=\"none\"/>\n",
              "    <path d=\"M18.56 5.44l.94 2.06.94-2.06 2.06-.94-2.06-.94-.94-2.06-.94 2.06-2.06.94zm-11 1L8.5 8.5l.94-2.06 2.06-.94-2.06-.94L8.5 2.5l-.94 2.06-2.06.94zm10 10l.94 2.06.94-2.06 2.06-.94-2.06-.94-.94-2.06-.94 2.06-2.06.94z\"/><path d=\"M17.41 7.96l-1.37-1.37c-.4-.4-.92-.59-1.43-.59-.52 0-1.04.2-1.43.59L10.3 9.45l-7.72 7.72c-.78.78-.78 2.05 0 2.83L4 21.41c.39.39.9.59 1.41.59.51 0 1.02-.2 1.41-.59l7.78-7.78 2.81-2.81c.8-.78.8-2.07 0-2.86zM5.41 20L4 18.59l7.72-7.72 1.47 1.35L5.41 20z\"/>\n",
              "  </svg>\n",
              "      </button>\n",
              "      \n",
              "  <style>\n",
              "    .colab-df-container {\n",
              "      display:flex;\n",
              "      flex-wrap:wrap;\n",
              "      gap: 12px;\n",
              "    }\n",
              "\n",
              "    .colab-df-convert {\n",
              "      background-color: #E8F0FE;\n",
              "      border: none;\n",
              "      border-radius: 50%;\n",
              "      cursor: pointer;\n",
              "      display: none;\n",
              "      fill: #1967D2;\n",
              "      height: 32px;\n",
              "      padding: 0 0 0 0;\n",
              "      width: 32px;\n",
              "    }\n",
              "\n",
              "    .colab-df-convert:hover {\n",
              "      background-color: #E2EBFA;\n",
              "      box-shadow: 0px 1px 2px rgba(60, 64, 67, 0.3), 0px 1px 3px 1px rgba(60, 64, 67, 0.15);\n",
              "      fill: #174EA6;\n",
              "    }\n",
              "\n",
              "    [theme=dark] .colab-df-convert {\n",
              "      background-color: #3B4455;\n",
              "      fill: #D2E3FC;\n",
              "    }\n",
              "\n",
              "    [theme=dark] .colab-df-convert:hover {\n",
              "      background-color: #434B5C;\n",
              "      box-shadow: 0px 1px 3px 1px rgba(0, 0, 0, 0.15);\n",
              "      filter: drop-shadow(0px 1px 2px rgba(0, 0, 0, 0.3));\n",
              "      fill: #FFFFFF;\n",
              "    }\n",
              "  </style>\n",
              "\n",
              "      <script>\n",
              "        const buttonEl =\n",
              "          document.querySelector('#df-d586f7d0-794a-47d4-8a9a-6668410ccf9b button.colab-df-convert');\n",
              "        buttonEl.style.display =\n",
              "          google.colab.kernel.accessAllowed ? 'block' : 'none';\n",
              "\n",
              "        async function convertToInteractive(key) {\n",
              "          const element = document.querySelector('#df-d586f7d0-794a-47d4-8a9a-6668410ccf9b');\n",
              "          const dataTable =\n",
              "            await google.colab.kernel.invokeFunction('convertToInteractive',\n",
              "                                                     [key], {});\n",
              "          if (!dataTable) return;\n",
              "\n",
              "          const docLinkHtml = 'Like what you see? Visit the ' +\n",
              "            '<a target=\"_blank\" href=https://colab.research.google.com/notebooks/data_table.ipynb>data table notebook</a>'\n",
              "            + ' to learn more about interactive tables.';\n",
              "          element.innerHTML = '';\n",
              "          dataTable['output_type'] = 'display_data';\n",
              "          await google.colab.output.renderOutput(dataTable, element);\n",
              "          const docLink = document.createElement('div');\n",
              "          docLink.innerHTML = docLinkHtml;\n",
              "          element.appendChild(docLink);\n",
              "        }\n",
              "      </script>\n",
              "    </div>\n",
              "  </div>\n",
              "  "
            ]
          },
          "metadata": {},
          "execution_count": 102
        }
      ]
    },
    {
      "cell_type": "code",
      "source": [
        "df.tail(5)"
      ],
      "metadata": {
        "colab": {
          "base_uri": "https://localhost:8080/",
          "height": 206
        },
        "id": "tz5aTE-zA4Ft",
        "outputId": "cfa83581-6889-4146-9c44-e5ed19eaa337"
      },
      "execution_count": 103,
      "outputs": [
        {
          "output_type": "execute_result",
          "data": {
            "text/plain": [
              "     wage_per_hour  union  education_yrs  experience_yrs  age  female  marr  \\\n",
              "529          11.36      0             18               5   29       0     0   \n",
              "530           6.10      0             12              33   51       1     1   \n",
              "531          23.25      1             17              25   48       1     1   \n",
              "532          19.88      1             12              13   31       0     1   \n",
              "533          15.38      0             16              33   55       0     1   \n",
              "\n",
              "     south  manufacturing  construction  \n",
              "529      0              0             0  \n",
              "530      0              0             0  \n",
              "531      0              0             0  \n",
              "532      1              0             0  \n",
              "533      0              1             0  "
            ],
            "text/html": [
              "\n",
              "  <div id=\"df-0c769f34-d522-445e-8b67-19a5a8e1ee38\">\n",
              "    <div class=\"colab-df-container\">\n",
              "      <div>\n",
              "<style scoped>\n",
              "    .dataframe tbody tr th:only-of-type {\n",
              "        vertical-align: middle;\n",
              "    }\n",
              "\n",
              "    .dataframe tbody tr th {\n",
              "        vertical-align: top;\n",
              "    }\n",
              "\n",
              "    .dataframe thead th {\n",
              "        text-align: right;\n",
              "    }\n",
              "</style>\n",
              "<table border=\"1\" class=\"dataframe\">\n",
              "  <thead>\n",
              "    <tr style=\"text-align: right;\">\n",
              "      <th></th>\n",
              "      <th>wage_per_hour</th>\n",
              "      <th>union</th>\n",
              "      <th>education_yrs</th>\n",
              "      <th>experience_yrs</th>\n",
              "      <th>age</th>\n",
              "      <th>female</th>\n",
              "      <th>marr</th>\n",
              "      <th>south</th>\n",
              "      <th>manufacturing</th>\n",
              "      <th>construction</th>\n",
              "    </tr>\n",
              "  </thead>\n",
              "  <tbody>\n",
              "    <tr>\n",
              "      <th>529</th>\n",
              "      <td>11.36</td>\n",
              "      <td>0</td>\n",
              "      <td>18</td>\n",
              "      <td>5</td>\n",
              "      <td>29</td>\n",
              "      <td>0</td>\n",
              "      <td>0</td>\n",
              "      <td>0</td>\n",
              "      <td>0</td>\n",
              "      <td>0</td>\n",
              "    </tr>\n",
              "    <tr>\n",
              "      <th>530</th>\n",
              "      <td>6.10</td>\n",
              "      <td>0</td>\n",
              "      <td>12</td>\n",
              "      <td>33</td>\n",
              "      <td>51</td>\n",
              "      <td>1</td>\n",
              "      <td>1</td>\n",
              "      <td>0</td>\n",
              "      <td>0</td>\n",
              "      <td>0</td>\n",
              "    </tr>\n",
              "    <tr>\n",
              "      <th>531</th>\n",
              "      <td>23.25</td>\n",
              "      <td>1</td>\n",
              "      <td>17</td>\n",
              "      <td>25</td>\n",
              "      <td>48</td>\n",
              "      <td>1</td>\n",
              "      <td>1</td>\n",
              "      <td>0</td>\n",
              "      <td>0</td>\n",
              "      <td>0</td>\n",
              "    </tr>\n",
              "    <tr>\n",
              "      <th>532</th>\n",
              "      <td>19.88</td>\n",
              "      <td>1</td>\n",
              "      <td>12</td>\n",
              "      <td>13</td>\n",
              "      <td>31</td>\n",
              "      <td>0</td>\n",
              "      <td>1</td>\n",
              "      <td>1</td>\n",
              "      <td>0</td>\n",
              "      <td>0</td>\n",
              "    </tr>\n",
              "    <tr>\n",
              "      <th>533</th>\n",
              "      <td>15.38</td>\n",
              "      <td>0</td>\n",
              "      <td>16</td>\n",
              "      <td>33</td>\n",
              "      <td>55</td>\n",
              "      <td>0</td>\n",
              "      <td>1</td>\n",
              "      <td>0</td>\n",
              "      <td>1</td>\n",
              "      <td>0</td>\n",
              "    </tr>\n",
              "  </tbody>\n",
              "</table>\n",
              "</div>\n",
              "      <button class=\"colab-df-convert\" onclick=\"convertToInteractive('df-0c769f34-d522-445e-8b67-19a5a8e1ee38')\"\n",
              "              title=\"Convert this dataframe to an interactive table.\"\n",
              "              style=\"display:none;\">\n",
              "        \n",
              "  <svg xmlns=\"http://www.w3.org/2000/svg\" height=\"24px\"viewBox=\"0 0 24 24\"\n",
              "       width=\"24px\">\n",
              "    <path d=\"M0 0h24v24H0V0z\" fill=\"none\"/>\n",
              "    <path d=\"M18.56 5.44l.94 2.06.94-2.06 2.06-.94-2.06-.94-.94-2.06-.94 2.06-2.06.94zm-11 1L8.5 8.5l.94-2.06 2.06-.94-2.06-.94L8.5 2.5l-.94 2.06-2.06.94zm10 10l.94 2.06.94-2.06 2.06-.94-2.06-.94-.94-2.06-.94 2.06-2.06.94z\"/><path d=\"M17.41 7.96l-1.37-1.37c-.4-.4-.92-.59-1.43-.59-.52 0-1.04.2-1.43.59L10.3 9.45l-7.72 7.72c-.78.78-.78 2.05 0 2.83L4 21.41c.39.39.9.59 1.41.59.51 0 1.02-.2 1.41-.59l7.78-7.78 2.81-2.81c.8-.78.8-2.07 0-2.86zM5.41 20L4 18.59l7.72-7.72 1.47 1.35L5.41 20z\"/>\n",
              "  </svg>\n",
              "      </button>\n",
              "      \n",
              "  <style>\n",
              "    .colab-df-container {\n",
              "      display:flex;\n",
              "      flex-wrap:wrap;\n",
              "      gap: 12px;\n",
              "    }\n",
              "\n",
              "    .colab-df-convert {\n",
              "      background-color: #E8F0FE;\n",
              "      border: none;\n",
              "      border-radius: 50%;\n",
              "      cursor: pointer;\n",
              "      display: none;\n",
              "      fill: #1967D2;\n",
              "      height: 32px;\n",
              "      padding: 0 0 0 0;\n",
              "      width: 32px;\n",
              "    }\n",
              "\n",
              "    .colab-df-convert:hover {\n",
              "      background-color: #E2EBFA;\n",
              "      box-shadow: 0px 1px 2px rgba(60, 64, 67, 0.3), 0px 1px 3px 1px rgba(60, 64, 67, 0.15);\n",
              "      fill: #174EA6;\n",
              "    }\n",
              "\n",
              "    [theme=dark] .colab-df-convert {\n",
              "      background-color: #3B4455;\n",
              "      fill: #D2E3FC;\n",
              "    }\n",
              "\n",
              "    [theme=dark] .colab-df-convert:hover {\n",
              "      background-color: #434B5C;\n",
              "      box-shadow: 0px 1px 3px 1px rgba(0, 0, 0, 0.15);\n",
              "      filter: drop-shadow(0px 1px 2px rgba(0, 0, 0, 0.3));\n",
              "      fill: #FFFFFF;\n",
              "    }\n",
              "  </style>\n",
              "\n",
              "      <script>\n",
              "        const buttonEl =\n",
              "          document.querySelector('#df-0c769f34-d522-445e-8b67-19a5a8e1ee38 button.colab-df-convert');\n",
              "        buttonEl.style.display =\n",
              "          google.colab.kernel.accessAllowed ? 'block' : 'none';\n",
              "\n",
              "        async function convertToInteractive(key) {\n",
              "          const element = document.querySelector('#df-0c769f34-d522-445e-8b67-19a5a8e1ee38');\n",
              "          const dataTable =\n",
              "            await google.colab.kernel.invokeFunction('convertToInteractive',\n",
              "                                                     [key], {});\n",
              "          if (!dataTable) return;\n",
              "\n",
              "          const docLinkHtml = 'Like what you see? Visit the ' +\n",
              "            '<a target=\"_blank\" href=https://colab.research.google.com/notebooks/data_table.ipynb>data table notebook</a>'\n",
              "            + ' to learn more about interactive tables.';\n",
              "          element.innerHTML = '';\n",
              "          dataTable['output_type'] = 'display_data';\n",
              "          await google.colab.output.renderOutput(dataTable, element);\n",
              "          const docLink = document.createElement('div');\n",
              "          docLink.innerHTML = docLinkHtml;\n",
              "          element.appendChild(docLink);\n",
              "        }\n",
              "      </script>\n",
              "    </div>\n",
              "  </div>\n",
              "  "
            ]
          },
          "metadata": {},
          "execution_count": 103
        }
      ]
    },
    {
      "cell_type": "markdown",
      "source": [
        "- 3) Verificar se há dados vazios (null) e imprimir o tipo de cada variável/atributo."
      ],
      "metadata": {
        "id": "eDlHeDmA9-oa"
      }
    },
    {
      "cell_type": "code",
      "source": [
        "nullData = pd.isnull(data).sum().sum()\n",
        "print ('Foram encontrados',nullData, 'dados vazios (null).')\n",
        "print ('Tipos das variaveis/atributos:\\n',df.dtypes)"
      ],
      "metadata": {
        "colab": {
          "base_uri": "https://localhost:8080/"
        },
        "id": "B4ug7gQC-C1j",
        "outputId": "f83f1834-cdef-473e-ddfa-cc60830ee49c"
      },
      "execution_count": 104,
      "outputs": [
        {
          "output_type": "stream",
          "name": "stdout",
          "text": [
            "Foram encontrados 0 dados vazios (null).\n",
            "Tipos das variaveis/atributos:\n",
            " wage_per_hour     float64\n",
            "union               int64\n",
            "education_yrs       int64\n",
            "experience_yrs      int64\n",
            "age                 int64\n",
            "female              int64\n",
            "marr                int64\n",
            "south               int64\n",
            "manufacturing       int64\n",
            "construction        int64\n",
            "dtype: object\n"
          ]
        }
      ]
    },
    {
      "cell_type": "markdown",
      "source": [
        "- 4) Obter um resumo da estatística descritiva dos dados utilizando um único comando (função)."
      ],
      "metadata": {
        "id": "Yx9tjuDCJroo"
      }
    },
    {
      "cell_type": "code",
      "source": [
        "round(df.describe(),2)"
      ],
      "metadata": {
        "colab": {
          "base_uri": "https://localhost:8080/",
          "height": 300
        },
        "id": "6or74uL7Jyyn",
        "outputId": "d843a421-e344-4970-ec65-1d1e2fb6a091"
      },
      "execution_count": 105,
      "outputs": [
        {
          "output_type": "execute_result",
          "data": {
            "text/plain": [
              "       wage_per_hour   union  education_yrs  experience_yrs     age  female  \\\n",
              "count         534.00  534.00         534.00          534.00  534.00  534.00   \n",
              "mean            9.02    0.18          13.02           17.82   36.83    0.46   \n",
              "std             5.14    0.38           2.62           12.38   11.73    0.50   \n",
              "min             1.00    0.00           2.00            0.00   18.00    0.00   \n",
              "25%             5.25    0.00          12.00            8.00   28.00    0.00   \n",
              "50%             7.78    0.00          12.00           15.00   35.00    0.00   \n",
              "75%            11.25    0.00          15.00           26.00   44.00    1.00   \n",
              "max            44.50    1.00          18.00           55.00   64.00    1.00   \n",
              "\n",
              "         marr   south  manufacturing  construction  \n",
              "count  534.00  534.00         534.00        534.00  \n",
              "mean     0.66    0.29           0.19          0.04  \n",
              "std      0.48    0.46           0.39          0.21  \n",
              "min      0.00    0.00           0.00          0.00  \n",
              "25%      0.00    0.00           0.00          0.00  \n",
              "50%      1.00    0.00           0.00          0.00  \n",
              "75%      1.00    1.00           0.00          0.00  \n",
              "max      1.00    1.00           1.00          1.00  "
            ],
            "text/html": [
              "\n",
              "  <div id=\"df-1953c7fa-98f2-426f-8446-165c89794e3a\">\n",
              "    <div class=\"colab-df-container\">\n",
              "      <div>\n",
              "<style scoped>\n",
              "    .dataframe tbody tr th:only-of-type {\n",
              "        vertical-align: middle;\n",
              "    }\n",
              "\n",
              "    .dataframe tbody tr th {\n",
              "        vertical-align: top;\n",
              "    }\n",
              "\n",
              "    .dataframe thead th {\n",
              "        text-align: right;\n",
              "    }\n",
              "</style>\n",
              "<table border=\"1\" class=\"dataframe\">\n",
              "  <thead>\n",
              "    <tr style=\"text-align: right;\">\n",
              "      <th></th>\n",
              "      <th>wage_per_hour</th>\n",
              "      <th>union</th>\n",
              "      <th>education_yrs</th>\n",
              "      <th>experience_yrs</th>\n",
              "      <th>age</th>\n",
              "      <th>female</th>\n",
              "      <th>marr</th>\n",
              "      <th>south</th>\n",
              "      <th>manufacturing</th>\n",
              "      <th>construction</th>\n",
              "    </tr>\n",
              "  </thead>\n",
              "  <tbody>\n",
              "    <tr>\n",
              "      <th>count</th>\n",
              "      <td>534.00</td>\n",
              "      <td>534.00</td>\n",
              "      <td>534.00</td>\n",
              "      <td>534.00</td>\n",
              "      <td>534.00</td>\n",
              "      <td>534.00</td>\n",
              "      <td>534.00</td>\n",
              "      <td>534.00</td>\n",
              "      <td>534.00</td>\n",
              "      <td>534.00</td>\n",
              "    </tr>\n",
              "    <tr>\n",
              "      <th>mean</th>\n",
              "      <td>9.02</td>\n",
              "      <td>0.18</td>\n",
              "      <td>13.02</td>\n",
              "      <td>17.82</td>\n",
              "      <td>36.83</td>\n",
              "      <td>0.46</td>\n",
              "      <td>0.66</td>\n",
              "      <td>0.29</td>\n",
              "      <td>0.19</td>\n",
              "      <td>0.04</td>\n",
              "    </tr>\n",
              "    <tr>\n",
              "      <th>std</th>\n",
              "      <td>5.14</td>\n",
              "      <td>0.38</td>\n",
              "      <td>2.62</td>\n",
              "      <td>12.38</td>\n",
              "      <td>11.73</td>\n",
              "      <td>0.50</td>\n",
              "      <td>0.48</td>\n",
              "      <td>0.46</td>\n",
              "      <td>0.39</td>\n",
              "      <td>0.21</td>\n",
              "    </tr>\n",
              "    <tr>\n",
              "      <th>min</th>\n",
              "      <td>1.00</td>\n",
              "      <td>0.00</td>\n",
              "      <td>2.00</td>\n",
              "      <td>0.00</td>\n",
              "      <td>18.00</td>\n",
              "      <td>0.00</td>\n",
              "      <td>0.00</td>\n",
              "      <td>0.00</td>\n",
              "      <td>0.00</td>\n",
              "      <td>0.00</td>\n",
              "    </tr>\n",
              "    <tr>\n",
              "      <th>25%</th>\n",
              "      <td>5.25</td>\n",
              "      <td>0.00</td>\n",
              "      <td>12.00</td>\n",
              "      <td>8.00</td>\n",
              "      <td>28.00</td>\n",
              "      <td>0.00</td>\n",
              "      <td>0.00</td>\n",
              "      <td>0.00</td>\n",
              "      <td>0.00</td>\n",
              "      <td>0.00</td>\n",
              "    </tr>\n",
              "    <tr>\n",
              "      <th>50%</th>\n",
              "      <td>7.78</td>\n",
              "      <td>0.00</td>\n",
              "      <td>12.00</td>\n",
              "      <td>15.00</td>\n",
              "      <td>35.00</td>\n",
              "      <td>0.00</td>\n",
              "      <td>1.00</td>\n",
              "      <td>0.00</td>\n",
              "      <td>0.00</td>\n",
              "      <td>0.00</td>\n",
              "    </tr>\n",
              "    <tr>\n",
              "      <th>75%</th>\n",
              "      <td>11.25</td>\n",
              "      <td>0.00</td>\n",
              "      <td>15.00</td>\n",
              "      <td>26.00</td>\n",
              "      <td>44.00</td>\n",
              "      <td>1.00</td>\n",
              "      <td>1.00</td>\n",
              "      <td>1.00</td>\n",
              "      <td>0.00</td>\n",
              "      <td>0.00</td>\n",
              "    </tr>\n",
              "    <tr>\n",
              "      <th>max</th>\n",
              "      <td>44.50</td>\n",
              "      <td>1.00</td>\n",
              "      <td>18.00</td>\n",
              "      <td>55.00</td>\n",
              "      <td>64.00</td>\n",
              "      <td>1.00</td>\n",
              "      <td>1.00</td>\n",
              "      <td>1.00</td>\n",
              "      <td>1.00</td>\n",
              "      <td>1.00</td>\n",
              "    </tr>\n",
              "  </tbody>\n",
              "</table>\n",
              "</div>\n",
              "      <button class=\"colab-df-convert\" onclick=\"convertToInteractive('df-1953c7fa-98f2-426f-8446-165c89794e3a')\"\n",
              "              title=\"Convert this dataframe to an interactive table.\"\n",
              "              style=\"display:none;\">\n",
              "        \n",
              "  <svg xmlns=\"http://www.w3.org/2000/svg\" height=\"24px\"viewBox=\"0 0 24 24\"\n",
              "       width=\"24px\">\n",
              "    <path d=\"M0 0h24v24H0V0z\" fill=\"none\"/>\n",
              "    <path d=\"M18.56 5.44l.94 2.06.94-2.06 2.06-.94-2.06-.94-.94-2.06-.94 2.06-2.06.94zm-11 1L8.5 8.5l.94-2.06 2.06-.94-2.06-.94L8.5 2.5l-.94 2.06-2.06.94zm10 10l.94 2.06.94-2.06 2.06-.94-2.06-.94-.94-2.06-.94 2.06-2.06.94z\"/><path d=\"M17.41 7.96l-1.37-1.37c-.4-.4-.92-.59-1.43-.59-.52 0-1.04.2-1.43.59L10.3 9.45l-7.72 7.72c-.78.78-.78 2.05 0 2.83L4 21.41c.39.39.9.59 1.41.59.51 0 1.02-.2 1.41-.59l7.78-7.78 2.81-2.81c.8-.78.8-2.07 0-2.86zM5.41 20L4 18.59l7.72-7.72 1.47 1.35L5.41 20z\"/>\n",
              "  </svg>\n",
              "      </button>\n",
              "      \n",
              "  <style>\n",
              "    .colab-df-container {\n",
              "      display:flex;\n",
              "      flex-wrap:wrap;\n",
              "      gap: 12px;\n",
              "    }\n",
              "\n",
              "    .colab-df-convert {\n",
              "      background-color: #E8F0FE;\n",
              "      border: none;\n",
              "      border-radius: 50%;\n",
              "      cursor: pointer;\n",
              "      display: none;\n",
              "      fill: #1967D2;\n",
              "      height: 32px;\n",
              "      padding: 0 0 0 0;\n",
              "      width: 32px;\n",
              "    }\n",
              "\n",
              "    .colab-df-convert:hover {\n",
              "      background-color: #E2EBFA;\n",
              "      box-shadow: 0px 1px 2px rgba(60, 64, 67, 0.3), 0px 1px 3px 1px rgba(60, 64, 67, 0.15);\n",
              "      fill: #174EA6;\n",
              "    }\n",
              "\n",
              "    [theme=dark] .colab-df-convert {\n",
              "      background-color: #3B4455;\n",
              "      fill: #D2E3FC;\n",
              "    }\n",
              "\n",
              "    [theme=dark] .colab-df-convert:hover {\n",
              "      background-color: #434B5C;\n",
              "      box-shadow: 0px 1px 3px 1px rgba(0, 0, 0, 0.15);\n",
              "      filter: drop-shadow(0px 1px 2px rgba(0, 0, 0, 0.3));\n",
              "      fill: #FFFFFF;\n",
              "    }\n",
              "  </style>\n",
              "\n",
              "      <script>\n",
              "        const buttonEl =\n",
              "          document.querySelector('#df-1953c7fa-98f2-426f-8446-165c89794e3a button.colab-df-convert');\n",
              "        buttonEl.style.display =\n",
              "          google.colab.kernel.accessAllowed ? 'block' : 'none';\n",
              "\n",
              "        async function convertToInteractive(key) {\n",
              "          const element = document.querySelector('#df-1953c7fa-98f2-426f-8446-165c89794e3a');\n",
              "          const dataTable =\n",
              "            await google.colab.kernel.invokeFunction('convertToInteractive',\n",
              "                                                     [key], {});\n",
              "          if (!dataTable) return;\n",
              "\n",
              "          const docLinkHtml = 'Like what you see? Visit the ' +\n",
              "            '<a target=\"_blank\" href=https://colab.research.google.com/notebooks/data_table.ipynb>data table notebook</a>'\n",
              "            + ' to learn more about interactive tables.';\n",
              "          element.innerHTML = '';\n",
              "          dataTable['output_type'] = 'display_data';\n",
              "          await google.colab.output.renderOutput(dataTable, element);\n",
              "          const docLink = document.createElement('div');\n",
              "          docLink.innerHTML = docLinkHtml;\n",
              "          element.appendChild(docLink);\n",
              "        }\n",
              "      </script>\n",
              "    </div>\n",
              "  </div>\n",
              "  "
            ]
          },
          "metadata": {},
          "execution_count": 105
        }
      ]
    },
    {
      "cell_type": "markdown",
      "source": [
        "- 5) Calcule a proporção de funcionários de sexo masculino e feminino."
      ],
      "metadata": {
        "id": "dt9HMEmGLFxh"
      }
    },
    {
      "cell_type": "code",
      "source": [
        "fSum = df.female.sum()\n",
        "mSum = df.shape[0] - fSum\n",
        "print('A proporção de funcionarios femininos em funcao dos masculinos eh de',fSum,'/',mSum)\n",
        "print(round(fSum/mSum , 2),'mulheres para cada homem')"
      ],
      "metadata": {
        "id": "wUShzXWJLLqs",
        "outputId": "ee56accc-7f33-477c-ec00-62c45be71b7d",
        "colab": {
          "base_uri": "https://localhost:8080/"
        }
      },
      "execution_count": 106,
      "outputs": [
        {
          "output_type": "stream",
          "name": "stdout",
          "text": [
            "A proporção de funcionarios femininos em funcao dos masculinos eh de 245 / 289\n",
            "0.85 mulheres para cada homem\n"
          ]
        }
      ]
    },
    {
      "cell_type": "markdown",
      "source": [
        "- 6) Calcule a proporção de casados e solteiros."
      ],
      "metadata": {
        "id": "2fvWIZE5Oxc4"
      }
    },
    {
      "cell_type": "code",
      "source": [
        "marrSum = df.marr.sum()\n",
        "singleSum = df.shape[0] - marrSum\n",
        "print('A proporção de funcionarios casados em funcao dos solteiros eh de',marrSum,'/',singleSum)\n",
        "print(round(marrSum/singleSum , 2),'casados para cada solteiro')"
      ],
      "metadata": {
        "id": "eo9JL4kHOzgs",
        "outputId": "756dba15-446f-424e-c4d5-329bf80ca09f",
        "colab": {
          "base_uri": "https://localhost:8080/"
        }
      },
      "execution_count": 107,
      "outputs": [
        {
          "output_type": "stream",
          "name": "stdout",
          "text": [
            "A proporção de funcionarios casados em funcao dos solteiros eh de 350 / 184\n",
            "1.9 casados para cada solteiro\n"
          ]
        }
      ]
    },
    {
      "cell_type": "markdown",
      "source": [
        "- 7) Calcule a proporção de funcionários filiados ao sindicato (union)."
      ],
      "metadata": {
        "id": "kbxEkUH6P7Jw"
      }
    },
    {
      "cell_type": "code",
      "source": [
        "union = df.union.sum()\n",
        "notUnion = df.shape[0] - union\n",
        "print('A proporção de funcionarios afiliados em funcao dos nao afiliados eh de',union,'/',notUnion)\n",
        "print(round(union/notUnion , 2),'afiliados para cada nao afiliado')"
      ],
      "metadata": {
        "id": "-Mj8m_9zPgYX",
        "outputId": "c93843ae-8e36-48b9-c37c-0abb92e9934b",
        "colab": {
          "base_uri": "https://localhost:8080/"
        }
      },
      "execution_count": 108,
      "outputs": [
        {
          "output_type": "stream",
          "name": "stdout",
          "text": [
            "A proporção de funcionarios afiliados em funcao dos nao afiliados eh de 96 / 438\n",
            "0.22 afiliados para cada nao afiliado\n"
          ]
        }
      ]
    },
    {
      "cell_type": "markdown",
      "source": [
        "- 8) Calcule as medianas de cada uma das variáveis: anos de educação, anos de experiência e idade."
      ],
      "metadata": {
        "id": "_9sxRnnYijTA"
      }
    },
    {
      "cell_type": "code",
      "source": [
        "print('A mediana da variavel \"anos de educacao\" eh:',df.education_yrs.median())\n",
        "print('A mediana da variavel \"anos de experiência\" eh:',df.experience_yrs\t.median())\n",
        "print('A mediana da variavel \"idade\" eh:',df.age.median())"
      ],
      "metadata": {
        "id": "ybzfTfCcimSo",
        "outputId": "900a0e48-af42-4b08-d1e1-f208139b596b",
        "colab": {
          "base_uri": "https://localhost:8080/"
        }
      },
      "execution_count": 109,
      "outputs": [
        {
          "output_type": "stream",
          "name": "stdout",
          "text": [
            "A mediana da variavel \"anos de educacao\" eh: 12.0\n",
            "A mediana da variavel \"anos de experiência\" eh: 15.0\n",
            "A mediana da variavel \"idade\" eh: 35.0\n"
          ]
        }
      ]
    },
    {
      "cell_type": "markdown",
      "source": [
        "- 9) Calcule as modas de cada uma das variáveis: anos de educação, anos de experiência e idade."
      ],
      "metadata": {
        "id": "ZzlFtA4ujjHp"
      }
    },
    {
      "cell_type": "code",
      "source": [
        "print('A moda da variavel \"anos de educacao\" eh:',stat.mode(df.education_yrs))\n",
        "print('A moda da variavel \"anos de experiência\" eh:',stat.mode(df.experience_yrs))\n",
        "print('A moda da variavel \"idade\" eh:',stat.mode(df.age))"
      ],
      "metadata": {
        "id": "p7ZugqXHjos4",
        "outputId": "563f5aba-087c-4475-c331-f910668978ed",
        "colab": {
          "base_uri": "https://localhost:8080/"
        }
      },
      "execution_count": 110,
      "outputs": [
        {
          "output_type": "stream",
          "name": "stdout",
          "text": [
            "A moda da variavel \"anos de educacao\" eh: 12\n",
            "A moda da variavel \"anos de experiência\" eh: 14\n",
            "A moda da variavel \"idade\" eh: 32\n"
          ]
        }
      ]
    },
    {
      "cell_type": "markdown",
      "source": [
        "- 10) Calcule o percentil 90 da variável idade."
      ],
      "metadata": {
        "id": "HtzvMlH5jqKH"
      }
    },
    {
      "cell_type": "code",
      "source": [
        "age_per90 = np.percentile(df.age, 90,interpolation='midpoint')\n",
        "print('O percentil 90 da variavel \"idade\", utilizando interpolacao de ponto medio eh:',age_per90)\n",
        "print('90% da populacao possuem idade inferior a',age_per90,'anos.')"
      ],
      "metadata": {
        "id": "squDNCxwjtKv",
        "outputId": "a371710f-a95c-423d-fac8-e7d0050f616c",
        "colab": {
          "base_uri": "https://localhost:8080/"
        }
      },
      "execution_count": 111,
      "outputs": [
        {
          "output_type": "stream",
          "name": "stdout",
          "text": [
            "O percentil 90 da variavel \"idade\", utilizando interpolacao de ponto medio eh: 55.0\n",
            "90% da populacao possuem idade inferior a 55.0 anos.\n"
          ]
        }
      ]
    },
    {
      "cell_type": "markdown",
      "source": [
        "- 11) Calcule o percentil 10 da variável anos de experiência."
      ],
      "metadata": {
        "id": "w7QsopG7jtR3"
      }
    },
    {
      "cell_type": "code",
      "source": [
        "experience_yrs_per10 = np.percentile(df.experience_yrs, 10,interpolation='midpoint')\n",
        "print('O percentil 10 da variavel \"anos de experienca\", utilizando interpolacao de ponto medio eh:',experience_yrs_per10)\n",
        "print('90% da populacao possuem mais de',experience_yrs_per10,'anos de experiencia.')"
      ],
      "metadata": {
        "id": "gimvqTQ3jwrL",
        "outputId": "9bb912f0-a015-4753-86fc-cd08db897c82",
        "colab": {
          "base_uri": "https://localhost:8080/"
        }
      },
      "execution_count": 112,
      "outputs": [
        {
          "output_type": "stream",
          "name": "stdout",
          "text": [
            "O percentil 10 da variavel \"anos de experienca\", utilizando interpolacao de ponto medio eh: 3.0\n",
            "90% da populacao possuem mais de 3.0 anos de experiencia.\n"
          ]
        }
      ]
    },
    {
      "cell_type": "markdown",
      "source": [
        "- 12) Determine qual atributo apresenta maior variabilidade dentre os atributos: anos de educação, anos de experiência e idade."
      ],
      "metadata": {
        "id": "FfFy__tBjw1Y"
      }
    },
    {
      "cell_type": "code",
      "source": [
        "std_education_yrs = np.std(df.education_yrs)\n",
        "std_experience_yrs = np.std(df.experience_yrs)\n",
        "std_age = np.std(df.age)\n",
        "\n",
        "labels_arr = ['anos de educacao', 'anos de experiencia', 'idade']\n",
        "compare_arr = [std_education_yrs, std_experience_yrs, std_age]\n",
        "\n",
        "print('Desvio padrao de \"anos de educacao\":', round(std_education_yrs, 2))\n",
        "print('Desvio padrao de \"anos de experiencia\":', round(std_experience_yrs, 2))\n",
        "print('Desvio padrao de \"idade\":', round(std_age, 2))\n",
        "\n",
        "for item in compare_arr:\n",
        "  if item == max(compare_arr):\n",
        "    print('O atributo com maior variabilidade eh: \"',labels_arr[compare_arr.index(item)],'\"')\n"
      ],
      "metadata": {
        "id": "wCLeAzOEoT4x",
        "outputId": "65644900-c62e-404f-ccc1-353ad7548401",
        "colab": {
          "base_uri": "https://localhost:8080/"
        }
      },
      "execution_count": 113,
      "outputs": [
        {
          "output_type": "stream",
          "name": "stdout",
          "text": [
            "Desvio padrao de \"anos de educacao\": 2.61\n",
            "Desvio padrao de \"anos de experiencia\": 12.37\n",
            "Desvio padrao de \"idade\": 11.72\n",
            "O atributo com maior variabilidade eh: \" anos de experiencia \"\n"
          ]
        }
      ]
    }
  ]
}