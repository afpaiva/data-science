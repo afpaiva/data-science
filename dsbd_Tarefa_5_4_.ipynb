{
  "nbformat": 4,
  "nbformat_minor": 0,
  "metadata": {
    "colab": {
      "name": "dsbd-Tarefa_5_4_LucasOmar.ipynb",
      "provenance": [],
      "collapsed_sections": []
    },
    "kernelspec": {
      "name": "python3",
      "display_name": "Python 3"
    },
    "language_info": {
      "name": "python"
    }
  },
  "cells": [
    {
      "cell_type": "markdown",
      "metadata": {
        "id": "_QysirvzGiDA"
      },
      "source": [
        "# **Tarefa 5.1 - Pré-processamento de um conjunto de dados** | *Lucas Omar*"
      ]
    },
    {
      "cell_type": "markdown",
      "metadata": {
        "id": "-d71LMTKHiwN"
      },
      "source": [
        "**1. Faça a leitura do arquivo \"Churn_Modelling_2.csv\" disponível na pasta \"Churn\" e armazene numa variável como um dataframe;**"
      ]
    },
    {
      "cell_type": "code",
      "metadata": {
        "colab": {
          "base_uri": "https://localhost:8080/",
          "height": 488
        },
        "id": "8zKyD8esevJK",
        "outputId": "3f5c9f83-e1de-445f-e63f-1947d7d49b82"
      },
      "source": [
        "import io\n",
        "import requests\n",
        "import pandas as pd\n",
        "\n",
        "df_churn_url = 'https://raw.githubusercontent.com/malegopc/DSBD/main/Datasets/Churn/Churn_Modelling_2.csv'\n",
        "df_churn_csv = requests.get(df_churn_url).content\n",
        "df_churn_dataset = pd.read_csv(io.StringIO(df_churn_csv.decode('utf-8')))\n",
        "df_churn = pd.DataFrame(df_churn_dataset)\n",
        "df_churn.drop([\"RowNumber\", \"CustomerId\", \"Surname\"], axis = 1)"
      ],
      "execution_count": 31,
      "outputs": [
        {
          "output_type": "execute_result",
          "data": {
            "text/plain": [
              "      CreditScore Geography  Gender  Age  Tenure    Balance  NumOfProducts  \\\n",
              "0             619    France  Female   42       2       0.00            1.0   \n",
              "1             608     Spain  Female   41       1   83807.86            1.0   \n",
              "2             502    France  Female   42       8  159660.80            3.0   \n",
              "3             699    France  Female   39       1       0.00            2.0   \n",
              "4             850     Spain  Female   43       2  125510.82            1.0   \n",
              "...           ...       ...     ...  ...     ...        ...            ...   \n",
              "9995          771    France    Male   39       5       0.00            2.0   \n",
              "9996          516    France    Male   35      10   57369.61            1.0   \n",
              "9997          709    France  Female   36       7       0.00            1.0   \n",
              "9998          772   Germany    Male   42       3   75075.31            2.0   \n",
              "9999          792    France  Female   28       4  130142.79            1.0   \n",
              "\n",
              "      HasCrCard  IsActiveMember  EstimatedSalary  Exited  \n",
              "0             1             1.0        101348.88       1  \n",
              "1             0             1.0        112542.58       0  \n",
              "2             1             0.0        113931.57       1  \n",
              "3             0             0.0         93826.63       0  \n",
              "4             1             1.0         79084.10       0  \n",
              "...         ...             ...              ...     ...  \n",
              "9995          1             0.0         96270.64       0  \n",
              "9996          1             1.0        101699.77       0  \n",
              "9997          0             1.0         42085.58       1  \n",
              "9998          1             0.0         92888.52       1  \n",
              "9999          1             0.0         38190.78       0  \n",
              "\n",
              "[10000 rows x 11 columns]"
            ],
            "text/html": [
              "\n",
              "  <div id=\"df-666a76dd-450c-4cc1-93b4-73ff4abe0b04\">\n",
              "    <div class=\"colab-df-container\">\n",
              "      <div>\n",
              "<style scoped>\n",
              "    .dataframe tbody tr th:only-of-type {\n",
              "        vertical-align: middle;\n",
              "    }\n",
              "\n",
              "    .dataframe tbody tr th {\n",
              "        vertical-align: top;\n",
              "    }\n",
              "\n",
              "    .dataframe thead th {\n",
              "        text-align: right;\n",
              "    }\n",
              "</style>\n",
              "<table border=\"1\" class=\"dataframe\">\n",
              "  <thead>\n",
              "    <tr style=\"text-align: right;\">\n",
              "      <th></th>\n",
              "      <th>CreditScore</th>\n",
              "      <th>Geography</th>\n",
              "      <th>Gender</th>\n",
              "      <th>Age</th>\n",
              "      <th>Tenure</th>\n",
              "      <th>Balance</th>\n",
              "      <th>NumOfProducts</th>\n",
              "      <th>HasCrCard</th>\n",
              "      <th>IsActiveMember</th>\n",
              "      <th>EstimatedSalary</th>\n",
              "      <th>Exited</th>\n",
              "    </tr>\n",
              "  </thead>\n",
              "  <tbody>\n",
              "    <tr>\n",
              "      <th>0</th>\n",
              "      <td>619</td>\n",
              "      <td>France</td>\n",
              "      <td>Female</td>\n",
              "      <td>42</td>\n",
              "      <td>2</td>\n",
              "      <td>0.00</td>\n",
              "      <td>1.0</td>\n",
              "      <td>1</td>\n",
              "      <td>1.0</td>\n",
              "      <td>101348.88</td>\n",
              "      <td>1</td>\n",
              "    </tr>\n",
              "    <tr>\n",
              "      <th>1</th>\n",
              "      <td>608</td>\n",
              "      <td>Spain</td>\n",
              "      <td>Female</td>\n",
              "      <td>41</td>\n",
              "      <td>1</td>\n",
              "      <td>83807.86</td>\n",
              "      <td>1.0</td>\n",
              "      <td>0</td>\n",
              "      <td>1.0</td>\n",
              "      <td>112542.58</td>\n",
              "      <td>0</td>\n",
              "    </tr>\n",
              "    <tr>\n",
              "      <th>2</th>\n",
              "      <td>502</td>\n",
              "      <td>France</td>\n",
              "      <td>Female</td>\n",
              "      <td>42</td>\n",
              "      <td>8</td>\n",
              "      <td>159660.80</td>\n",
              "      <td>3.0</td>\n",
              "      <td>1</td>\n",
              "      <td>0.0</td>\n",
              "      <td>113931.57</td>\n",
              "      <td>1</td>\n",
              "    </tr>\n",
              "    <tr>\n",
              "      <th>3</th>\n",
              "      <td>699</td>\n",
              "      <td>France</td>\n",
              "      <td>Female</td>\n",
              "      <td>39</td>\n",
              "      <td>1</td>\n",
              "      <td>0.00</td>\n",
              "      <td>2.0</td>\n",
              "      <td>0</td>\n",
              "      <td>0.0</td>\n",
              "      <td>93826.63</td>\n",
              "      <td>0</td>\n",
              "    </tr>\n",
              "    <tr>\n",
              "      <th>4</th>\n",
              "      <td>850</td>\n",
              "      <td>Spain</td>\n",
              "      <td>Female</td>\n",
              "      <td>43</td>\n",
              "      <td>2</td>\n",
              "      <td>125510.82</td>\n",
              "      <td>1.0</td>\n",
              "      <td>1</td>\n",
              "      <td>1.0</td>\n",
              "      <td>79084.10</td>\n",
              "      <td>0</td>\n",
              "    </tr>\n",
              "    <tr>\n",
              "      <th>...</th>\n",
              "      <td>...</td>\n",
              "      <td>...</td>\n",
              "      <td>...</td>\n",
              "      <td>...</td>\n",
              "      <td>...</td>\n",
              "      <td>...</td>\n",
              "      <td>...</td>\n",
              "      <td>...</td>\n",
              "      <td>...</td>\n",
              "      <td>...</td>\n",
              "      <td>...</td>\n",
              "    </tr>\n",
              "    <tr>\n",
              "      <th>9995</th>\n",
              "      <td>771</td>\n",
              "      <td>France</td>\n",
              "      <td>Male</td>\n",
              "      <td>39</td>\n",
              "      <td>5</td>\n",
              "      <td>0.00</td>\n",
              "      <td>2.0</td>\n",
              "      <td>1</td>\n",
              "      <td>0.0</td>\n",
              "      <td>96270.64</td>\n",
              "      <td>0</td>\n",
              "    </tr>\n",
              "    <tr>\n",
              "      <th>9996</th>\n",
              "      <td>516</td>\n",
              "      <td>France</td>\n",
              "      <td>Male</td>\n",
              "      <td>35</td>\n",
              "      <td>10</td>\n",
              "      <td>57369.61</td>\n",
              "      <td>1.0</td>\n",
              "      <td>1</td>\n",
              "      <td>1.0</td>\n",
              "      <td>101699.77</td>\n",
              "      <td>0</td>\n",
              "    </tr>\n",
              "    <tr>\n",
              "      <th>9997</th>\n",
              "      <td>709</td>\n",
              "      <td>France</td>\n",
              "      <td>Female</td>\n",
              "      <td>36</td>\n",
              "      <td>7</td>\n",
              "      <td>0.00</td>\n",
              "      <td>1.0</td>\n",
              "      <td>0</td>\n",
              "      <td>1.0</td>\n",
              "      <td>42085.58</td>\n",
              "      <td>1</td>\n",
              "    </tr>\n",
              "    <tr>\n",
              "      <th>9998</th>\n",
              "      <td>772</td>\n",
              "      <td>Germany</td>\n",
              "      <td>Male</td>\n",
              "      <td>42</td>\n",
              "      <td>3</td>\n",
              "      <td>75075.31</td>\n",
              "      <td>2.0</td>\n",
              "      <td>1</td>\n",
              "      <td>0.0</td>\n",
              "      <td>92888.52</td>\n",
              "      <td>1</td>\n",
              "    </tr>\n",
              "    <tr>\n",
              "      <th>9999</th>\n",
              "      <td>792</td>\n",
              "      <td>France</td>\n",
              "      <td>Female</td>\n",
              "      <td>28</td>\n",
              "      <td>4</td>\n",
              "      <td>130142.79</td>\n",
              "      <td>1.0</td>\n",
              "      <td>1</td>\n",
              "      <td>0.0</td>\n",
              "      <td>38190.78</td>\n",
              "      <td>0</td>\n",
              "    </tr>\n",
              "  </tbody>\n",
              "</table>\n",
              "<p>10000 rows × 11 columns</p>\n",
              "</div>\n",
              "      <button class=\"colab-df-convert\" onclick=\"convertToInteractive('df-666a76dd-450c-4cc1-93b4-73ff4abe0b04')\"\n",
              "              title=\"Convert this dataframe to an interactive table.\"\n",
              "              style=\"display:none;\">\n",
              "        \n",
              "  <svg xmlns=\"http://www.w3.org/2000/svg\" height=\"24px\"viewBox=\"0 0 24 24\"\n",
              "       width=\"24px\">\n",
              "    <path d=\"M0 0h24v24H0V0z\" fill=\"none\"/>\n",
              "    <path d=\"M18.56 5.44l.94 2.06.94-2.06 2.06-.94-2.06-.94-.94-2.06-.94 2.06-2.06.94zm-11 1L8.5 8.5l.94-2.06 2.06-.94-2.06-.94L8.5 2.5l-.94 2.06-2.06.94zm10 10l.94 2.06.94-2.06 2.06-.94-2.06-.94-.94-2.06-.94 2.06-2.06.94z\"/><path d=\"M17.41 7.96l-1.37-1.37c-.4-.4-.92-.59-1.43-.59-.52 0-1.04.2-1.43.59L10.3 9.45l-7.72 7.72c-.78.78-.78 2.05 0 2.83L4 21.41c.39.39.9.59 1.41.59.51 0 1.02-.2 1.41-.59l7.78-7.78 2.81-2.81c.8-.78.8-2.07 0-2.86zM5.41 20L4 18.59l7.72-7.72 1.47 1.35L5.41 20z\"/>\n",
              "  </svg>\n",
              "      </button>\n",
              "      \n",
              "  <style>\n",
              "    .colab-df-container {\n",
              "      display:flex;\n",
              "      flex-wrap:wrap;\n",
              "      gap: 12px;\n",
              "    }\n",
              "\n",
              "    .colab-df-convert {\n",
              "      background-color: #E8F0FE;\n",
              "      border: none;\n",
              "      border-radius: 50%;\n",
              "      cursor: pointer;\n",
              "      display: none;\n",
              "      fill: #1967D2;\n",
              "      height: 32px;\n",
              "      padding: 0 0 0 0;\n",
              "      width: 32px;\n",
              "    }\n",
              "\n",
              "    .colab-df-convert:hover {\n",
              "      background-color: #E2EBFA;\n",
              "      box-shadow: 0px 1px 2px rgba(60, 64, 67, 0.3), 0px 1px 3px 1px rgba(60, 64, 67, 0.15);\n",
              "      fill: #174EA6;\n",
              "    }\n",
              "\n",
              "    [theme=dark] .colab-df-convert {\n",
              "      background-color: #3B4455;\n",
              "      fill: #D2E3FC;\n",
              "    }\n",
              "\n",
              "    [theme=dark] .colab-df-convert:hover {\n",
              "      background-color: #434B5C;\n",
              "      box-shadow: 0px 1px 3px 1px rgba(0, 0, 0, 0.15);\n",
              "      filter: drop-shadow(0px 1px 2px rgba(0, 0, 0, 0.3));\n",
              "      fill: #FFFFFF;\n",
              "    }\n",
              "  </style>\n",
              "\n",
              "      <script>\n",
              "        const buttonEl =\n",
              "          document.querySelector('#df-666a76dd-450c-4cc1-93b4-73ff4abe0b04 button.colab-df-convert');\n",
              "        buttonEl.style.display =\n",
              "          google.colab.kernel.accessAllowed ? 'block' : 'none';\n",
              "\n",
              "        async function convertToInteractive(key) {\n",
              "          const element = document.querySelector('#df-666a76dd-450c-4cc1-93b4-73ff4abe0b04');\n",
              "          const dataTable =\n",
              "            await google.colab.kernel.invokeFunction('convertToInteractive',\n",
              "                                                     [key], {});\n",
              "          if (!dataTable) return;\n",
              "\n",
              "          const docLinkHtml = 'Like what you see? Visit the ' +\n",
              "            '<a target=\"_blank\" href=https://colab.research.google.com/notebooks/data_table.ipynb>data table notebook</a>'\n",
              "            + ' to learn more about interactive tables.';\n",
              "          element.innerHTML = '';\n",
              "          dataTable['output_type'] = 'display_data';\n",
              "          await google.colab.output.renderOutput(dataTable, element);\n",
              "          const docLink = document.createElement('div');\n",
              "          docLink.innerHTML = docLinkHtml;\n",
              "          element.appendChild(docLink);\n",
              "        }\n",
              "      </script>\n",
              "    </div>\n",
              "  </div>\n",
              "  "
            ]
          },
          "metadata": {},
          "execution_count": 31
        }
      ]
    },
    {
      "cell_type": "markdown",
      "source": [
        "**2. Elimine instâncias (linhas) com dados ausentes para a variável \"IsActiveMember\".**"
      ],
      "metadata": {
        "id": "IwpA_UqRcuIi"
      }
    },
    {
      "cell_type": "code",
      "source": [
        "df_churn.isnull().sum()"
      ],
      "metadata": {
        "colab": {
          "base_uri": "https://localhost:8080/"
        },
        "id": "CZ-hLpytdH5p",
        "outputId": "ce9398bb-3157-44bd-83b5-85a2671cf372"
      },
      "execution_count": 32,
      "outputs": [
        {
          "output_type": "execute_result",
          "data": {
            "text/plain": [
              "RowNumber           0\n",
              "CustomerId          0\n",
              "Surname             0\n",
              "CreditScore         0\n",
              "Geography           0\n",
              "Gender              0\n",
              "Age                 0\n",
              "Tenure              0\n",
              "Balance             0\n",
              "NumOfProducts      10\n",
              "HasCrCard           0\n",
              "IsActiveMember     14\n",
              "EstimatedSalary     0\n",
              "Exited              0\n",
              "dtype: int64"
            ]
          },
          "metadata": {},
          "execution_count": 32
        }
      ]
    },
    {
      "cell_type": "code",
      "source": [
        "df_churn.dropna(subset=['IsActiveMember'], inplace = True)\n",
        "df_churn.isnull().sum()"
      ],
      "metadata": {
        "colab": {
          "base_uri": "https://localhost:8080/"
        },
        "id": "scy9iegUdvpy",
        "outputId": "2ff254cb-830e-4423-dd54-8b1cd6229cb4"
      },
      "execution_count": 33,
      "outputs": [
        {
          "output_type": "execute_result",
          "data": {
            "text/plain": [
              "RowNumber           0\n",
              "CustomerId          0\n",
              "Surname             0\n",
              "CreditScore         0\n",
              "Geography           0\n",
              "Gender              0\n",
              "Age                 0\n",
              "Tenure              0\n",
              "Balance             0\n",
              "NumOfProducts      10\n",
              "HasCrCard           0\n",
              "IsActiveMember      0\n",
              "EstimatedSalary     0\n",
              "Exited              0\n",
              "dtype: int64"
            ]
          },
          "metadata": {},
          "execution_count": 33
        }
      ]
    },
    {
      "cell_type": "markdown",
      "source": [
        "**3. Faça a imputação dos dados ausentes para a variável \"NumOfProducts\" utilizando a média da variável.**"
      ],
      "metadata": {
        "id": "SAUWywr8fBnJ"
      }
    },
    {
      "cell_type": "code",
      "source": [
        "from sklearn.impute import SimpleImputer\n",
        "import numpy as np\n",
        "\n",
        "imputer = SimpleImputer(missing_values = np.nan, strategy ='mean')\n",
        "df_churn[['NumOfProducts']] = imputer.fit_transform(df_churn[['NumOfProducts']].values)\n",
        "df_churn.isnull().sum()"
      ],
      "metadata": {
        "colab": {
          "base_uri": "https://localhost:8080/"
        },
        "id": "XlE3iSXlfcuM",
        "outputId": "de4aa740-643a-4c76-b1f3-911d696b354b"
      },
      "execution_count": 34,
      "outputs": [
        {
          "output_type": "execute_result",
          "data": {
            "text/plain": [
              "RowNumber          0\n",
              "CustomerId         0\n",
              "Surname            0\n",
              "CreditScore        0\n",
              "Geography          0\n",
              "Gender             0\n",
              "Age                0\n",
              "Tenure             0\n",
              "Balance            0\n",
              "NumOfProducts      0\n",
              "HasCrCard          0\n",
              "IsActiveMember     0\n",
              "EstimatedSalary    0\n",
              "Exited             0\n",
              "dtype: int64"
            ]
          },
          "metadata": {},
          "execution_count": 34
        }
      ]
    },
    {
      "cell_type": "markdown",
      "metadata": {
        "id": "sOw3GE5SfwrM"
      },
      "source": [
        "**4. Crie uma variável (array) X que contenha apenas os valores dos atributos/colunas de \"CreditScore\" a \"EstimatedSalary\" utilizando a função \"iloc\" do Pandas. Em outras palavras, crie uma variável X que receba o dataframe inteiro exceto as 3 primeiras colunas e a última. Observe que as 3 primeiras colunas \"RowNumber\", \"CustomerId\" e \"Surname\" não são importantes e devem ser descartadas. E a última coluna (\"Exited\") será a variável destino (\"target\" ou saída) que será criada no próximo passo;**"
      ]
    },
    {
      "cell_type": "code",
      "metadata": {
        "colab": {
          "base_uri": "https://localhost:8080/"
        },
        "id": "dxiUSjDwfySi",
        "outputId": "57770345-81eb-4000-f2c8-8cf10caf66f4"
      },
      "source": [
        "X = df_churn.iloc[:,3:13].values\n",
        "print(X)"
      ],
      "execution_count": 35,
      "outputs": [
        {
          "output_type": "stream",
          "name": "stdout",
          "text": [
            "[[619 'France' 'Female' ... 1 1.0 101348.88]\n",
            " [608 'Spain' 'Female' ... 0 1.0 112542.58]\n",
            " [502 'France' 'Female' ... 1 0.0 113931.57]\n",
            " ...\n",
            " [709 'France' 'Female' ... 0 1.0 42085.58]\n",
            " [772 'Germany' 'Male' ... 1 0.0 92888.52]\n",
            " [792 'France' 'Female' ... 1 0.0 38190.78]]\n"
          ]
        }
      ]
    },
    {
      "cell_type": "markdown",
      "metadata": {
        "id": "GqUqOhyuhYUp"
      },
      "source": [
        "**5. Crie uma variável (array) y que contenha apenas a última coluna  (\"Exited\"). Esta é a variável destino (\"target\" ou saída);**"
      ]
    },
    {
      "cell_type": "code",
      "metadata": {
        "colab": {
          "base_uri": "https://localhost:8080/"
        },
        "id": "Y2xzPN7ehaC6",
        "outputId": "90e06bed-e421-4bfa-def0-927e4afb2b9b"
      },
      "source": [
        "y = df_churn.iloc[:,13]\n",
        "print(y)"
      ],
      "execution_count": 36,
      "outputs": [
        {
          "output_type": "stream",
          "name": "stdout",
          "text": [
            "0       1\n",
            "1       0\n",
            "2       1\n",
            "3       0\n",
            "4       0\n",
            "       ..\n",
            "9995    0\n",
            "9996    0\n",
            "9997    1\n",
            "9998    1\n",
            "9999    0\n",
            "Name: Exited, Length: 9986, dtype: int64\n"
          ]
        }
      ]
    },
    {
      "cell_type": "markdown",
      "metadata": {
        "id": "BR54DRaKj3bz"
      },
      "source": [
        "**6. Codifique a coluna/variável categórica \"Geography\" como numérica utilizando a classe LabelEncoder da biblioteca scikit-learn;**"
      ]
    },
    {
      "cell_type": "code",
      "metadata": {
        "colab": {
          "base_uri": "https://localhost:8080/"
        },
        "id": "311eVVi8j5pO",
        "outputId": "81379107-e0c3-4110-fe74-f41b7942f267"
      },
      "source": [
        "from sklearn.preprocessing import LabelEncoder\n",
        "\n",
        "le = LabelEncoder() # cria objeto\n",
        "le.fit(X[:,1]) # ajusta na variável de entrada\n",
        "X[:,1] = le.transform(X[:,1]) # aplica a transformação na variável de entrada\n",
        "print(X)"
      ],
      "execution_count": 37,
      "outputs": [
        {
          "output_type": "stream",
          "name": "stdout",
          "text": [
            "[[619 0 'Female' ... 1 1.0 101348.88]\n",
            " [608 2 'Female' ... 0 1.0 112542.58]\n",
            " [502 0 'Female' ... 1 0.0 113931.57]\n",
            " ...\n",
            " [709 0 'Female' ... 0 1.0 42085.58]\n",
            " [772 1 'Male' ... 1 0.0 92888.52]\n",
            " [792 0 'Female' ... 1 0.0 38190.78]]\n"
          ]
        }
      ]
    },
    {
      "cell_type": "markdown",
      "metadata": {
        "id": "0o3twD7Un1Ov"
      },
      "source": [
        "**7. Codifique a coluna/variável categórica \"Gender\" como numérica utilizando a classe LabelEncoder da biblioteca scikit-learn;**"
      ]
    },
    {
      "cell_type": "code",
      "metadata": {
        "colab": {
          "base_uri": "https://localhost:8080/"
        },
        "id": "vB3XmUSnn27l",
        "outputId": "17f41c1e-5c67-4467-92de-f50331e5ab6a"
      },
      "source": [
        "le = LabelEncoder() # cria objeto\n",
        "le.fit(X[:,2]) # ajusta na variável de entrada\n",
        "X[:,2] = le.transform(X[:,2]) # aplica a transformação na variável de entrada\n",
        "print(X)"
      ],
      "execution_count": 38,
      "outputs": [
        {
          "output_type": "stream",
          "name": "stdout",
          "text": [
            "[[619 0 0 ... 1 1.0 101348.88]\n",
            " [608 2 0 ... 0 1.0 112542.58]\n",
            " [502 0 0 ... 1 0.0 113931.57]\n",
            " ...\n",
            " [709 0 0 ... 0 1.0 42085.58]\n",
            " [772 1 1 ... 1 0.0 92888.52]\n",
            " [792 0 0 ... 1 0.0 38190.78]]\n"
          ]
        }
      ]
    },
    {
      "cell_type": "code",
      "metadata": {
        "colab": {
          "base_uri": "https://localhost:8080/"
        },
        "id": "OSKX9s_f0gzz",
        "outputId": "2f87ad21-0357-40fc-9e82-fa54eb3d2923"
      },
      "source": [
        "X.shape"
      ],
      "execution_count": 39,
      "outputs": [
        {
          "output_type": "execute_result",
          "data": {
            "text/plain": [
              "(9986, 10)"
            ]
          },
          "metadata": {},
          "execution_count": 39
        }
      ]
    },
    {
      "cell_type": "markdown",
      "metadata": {
        "id": "Mv1C-aBYpEyF"
      },
      "source": [
        "**8. Após executar o passo 6, transforme os dados da variável  Geography\" para a forma binária utilizando a classe OneHotEncoder da biblioteca scikit-learn eliminando redundância, ou seja, aplicando a codificação de variáveis dummy. Observe que há apenas 3 países (categorias) diferentes. Atenção: esse talvez seja o passo mais difícil da tarefa. Você deve transformar o resultado da variável/coluna \"Geography\" obtido no passo 6 para o formato binário (one-hot) de modo que fique representado por apenas duas colunas (de 0s e 1s). Além disso, essas duas novas colunas devem permanecer na mesma variável X. Dica: verifique a utilização da função make_column_transformer (Links para um site externo.) da biblioteca scikit-learn;**"
      ]
    },
    {
      "cell_type": "code",
      "metadata": {
        "id": "maAW4kWPpNcF"
      },
      "source": [
        "from sklearn.preprocessing import OneHotEncoder\n",
        "from sklearn.compose import make_column_transformer\n",
        "\n",
        "enc = OneHotEncoder(drop = 'first', sparse = False) # cria objeto com argumento sparse = False para retornar uma matriz e remover 1o. recurso\n",
        "ct = make_column_transformer((enc,[1]),remainder = 'passthrough')\n",
        "X = ct.fit_transform(X)"
      ],
      "execution_count": 40,
      "outputs": []
    },
    {
      "cell_type": "code",
      "metadata": {
        "colab": {
          "base_uri": "https://localhost:8080/"
        },
        "id": "an1osr1XyQId",
        "outputId": "1a9486d4-3211-45da-8dfd-ee4199feae1b"
      },
      "source": [
        "X"
      ],
      "execution_count": 41,
      "outputs": [
        {
          "output_type": "execute_result",
          "data": {
            "text/plain": [
              "array([[0.0, 0.0, 619, ..., 1, 1.0, 101348.88],\n",
              "       [0.0, 1.0, 608, ..., 0, 1.0, 112542.58],\n",
              "       [0.0, 0.0, 502, ..., 1, 0.0, 113931.57],\n",
              "       ...,\n",
              "       [0.0, 0.0, 709, ..., 0, 1.0, 42085.58],\n",
              "       [1.0, 0.0, 772, ..., 1, 0.0, 92888.52],\n",
              "       [0.0, 0.0, 792, ..., 1, 0.0, 38190.78]], dtype=object)"
            ]
          },
          "metadata": {},
          "execution_count": 41
        }
      ]
    },
    {
      "cell_type": "code",
      "metadata": {
        "colab": {
          "base_uri": "https://localhost:8080/"
        },
        "id": "GvCKMq_P0B6v",
        "outputId": "ab9cf654-c358-430f-edf0-46da3f0f4d99"
      },
      "source": [
        "X.shape"
      ],
      "execution_count": 42,
      "outputs": [
        {
          "output_type": "execute_result",
          "data": {
            "text/plain": [
              "(9986, 11)"
            ]
          },
          "metadata": {},
          "execution_count": 42
        }
      ]
    },
    {
      "cell_type": "markdown",
      "metadata": {
        "id": "exKQLpgU0pKT"
      },
      "source": [
        "**9. Divida os variáveis X e y em dados de treino e de teste utilizando o método \"train_test_split\", gerando as variáveis X_train, X_test, y_train e y_test. Você define a proporção de dados de treino e de teste;**"
      ]
    },
    {
      "cell_type": "code",
      "metadata": {
        "id": "Rj2QBfNV0zEo",
        "colab": {
          "base_uri": "https://localhost:8080/"
        },
        "outputId": "4e7f6ca3-e0ea-4d95-81dc-ad0ec3a96027"
      },
      "source": [
        "from sklearn.model_selection import train_test_split\n",
        "\n",
        "X_train, X_test, y_train, y_test = train_test_split(X,y,test_size=0.25) \n",
        "X_train.shape, X_test.shape, y_train.shape, y_test.shape "
      ],
      "execution_count": 43,
      "outputs": [
        {
          "output_type": "execute_result",
          "data": {
            "text/plain": [
              "((7489, 11), (2497, 11), (7489,), (2497,))"
            ]
          },
          "metadata": {},
          "execution_count": 43
        }
      ]
    },
    {
      "cell_type": "markdown",
      "metadata": {
        "id": "MU11fS6B1C7V"
      },
      "source": [
        "**10. Faça a padronização dos dados das variáveis X_train e X_test utilizando a classe StandardScaler do scikit-learn;**"
      ]
    },
    {
      "cell_type": "code",
      "metadata": {
        "id": "qcIk6LRW1QKb",
        "colab": {
          "base_uri": "https://localhost:8080/"
        },
        "outputId": "e528ef94-737f-4b9b-f332-246589e81b5c"
      },
      "source": [
        "from sklearn.preprocessing import MinMaxScaler\n",
        "sc = MinMaxScaler() #cria objeto\n",
        "X_train = sc.fit_transform(X_train)\n",
        "X_test = sc.transform(X_test)\n",
        "print(X_train)\n",
        "print(X_test)\n",
        "\n",
        "# from sklearn.preprocessing import StandardScaler\n",
        "# sc = StandardScaler() #cria objeto\n",
        "# X_train = sc.fit_transform(X_train)\n",
        "# print(X_train)"
      ],
      "execution_count": 44,
      "outputs": [
        {
          "output_type": "stream",
          "name": "stdout",
          "text": [
            "[[0.         0.         0.322      ... 1.         0.         0.71998516]\n",
            " [0.         1.         0.31       ... 1.         0.         0.97701205]\n",
            " [0.         0.         0.382      ... 0.         0.         0.43085285]\n",
            " ...\n",
            " [1.         0.         0.642      ... 0.         1.         0.17332855]\n",
            " [1.         0.         0.342      ... 1.         1.         0.54677697]\n",
            " [0.         0.         0.494      ... 1.         1.         0.26156338]]\n",
            "[[0.         0.         0.678      ... 1.         0.         0.980598  ]\n",
            " [0.         1.         0.294      ... 1.         1.         0.82414601]\n",
            " [1.         0.         0.866      ... 1.         0.         0.01069422]\n",
            " ...\n",
            " [0.         0.         0.52       ... 1.         1.         0.74802624]\n",
            " [0.         0.         0.532      ... 1.         1.         0.08844795]\n",
            " [0.         0.         0.674      ... 1.         0.         0.13419617]]\n"
          ]
        }
      ]
    },
    {
      "cell_type": "markdown",
      "source": [
        "# **Tarefa 5.2 - Aplicação de diferentes algoritmos de AM numa tarefa de predição (classificação) Churn - Churn_Modelling** | *Lucas Omar*"
      ],
      "metadata": {
        "id": "DzxVg6OYO17y"
      }
    },
    {
      "cell_type": "markdown",
      "source": [
        "**1. Você deve aplicar os seguintes algoritmos de AM:**\n",
        "* **Regressão Logística**\n",
        "* **KNN - K-Nearest Neighbors (k-vizinhos mais próximos)**\n",
        "* **SVM - Support Vector Machines (Máquinas de Vetores de Suporte)**\n",
        "* **Random Forest**"
      ],
      "metadata": {
        "id": "2gn9g8trO8oJ"
      }
    },
    {
      "cell_type": "code",
      "source": [
        "#######################\n",
        "# Regressão Logística #\n",
        "#######################\n",
        "\n",
        "from sklearn import metrics\n",
        "from sklearn.metrics import ConfusionMatrixDisplay\n",
        "from sklearn.linear_model import LogisticRegression\n",
        "\n",
        "logreg = LogisticRegression(solver = 'liblinear') # liblinear => conjuntos pequenos\n",
        "logreg.fit(X_train,y_train)\n",
        "classificacoes_logreg = logreg.predict(X_test)\n",
        "\n",
        "acertos_LogReg = metrics.accuracy_score(y_test,classificacoes_logreg)\n",
        "print('Taxa de acerto = ',round(acertos_LogReg*100,2),\"%\")\n",
        "\n",
        "print('Matriz de confusão:')\n",
        "cm_logreg = ConfusionMatrixDisplay.from_estimator(logreg, X_test, y_test)"
      ],
      "metadata": {
        "colab": {
          "base_uri": "https://localhost:8080/",
          "height": 314
        },
        "id": "CpPEt7_1PS3g",
        "outputId": "12f08a73-31e9-4c54-c52a-315c10c64084"
      },
      "execution_count": 45,
      "outputs": [
        {
          "output_type": "stream",
          "name": "stdout",
          "text": [
            "Taxa de acerto =  80.42 %\n",
            "Matriz de confusão:\n"
          ]
        },
        {
          "output_type": "display_data",
          "data": {
            "text/plain": [
              "<Figure size 432x288 with 2 Axes>"
            ],
            "image/png": "[encoded data removed]"
          },
          "metadata": {
            "needs_background": "light"
          }
        }
      ]
    },
    {
      "cell_type": "code",
      "source": [
        "########################################################\n",
        "# KNN - K-Nearest Neighbors (k-vizinhos mais próximos) #\n",
        "########################################################\n",
        "from sklearn.neighbors import KNeighborsClassifier\n",
        "\n",
        "knn = KNeighborsClassifier(n_neighbors=20) \n",
        "knn.fit(X_train,y_train)\n",
        "classificacoes_knn = knn.predict(X_test)\n",
        "\n",
        "acertos_knn = metrics.accuracy_score(y_test,classificacoes_knn)\n",
        "print('Taxa de acerto = ',round(acertos_knn*100,2),\"%\")\n",
        "\n",
        "print('Matriz de confusão:')\n",
        "cm_knn = ConfusionMatrixDisplay.from_estimator(knn, X_test, y_test)"
      ],
      "metadata": {
        "colab": {
          "base_uri": "https://localhost:8080/",
          "height": 314
        },
        "id": "HvN98TcjQPnv",
        "outputId": "c55bd72c-db51-49b0-df8f-97445fc21b43"
      },
      "execution_count": 46,
      "outputs": [
        {
          "output_type": "stream",
          "name": "stdout",
          "text": [
            "Taxa de acerto =  80.74 %\n",
            "Matriz de confusão:\n"
          ]
        },
        {
          "output_type": "display_data",
          "data": {
            "text/plain": [
              "<Figure size 432x288 with 2 Axes>"
            ],
            "image/png": "[encoded data removed]"
          },
          "metadata": {
            "needs_background": "light"
          }
        }
      ]
    },
    {
      "cell_type": "code",
      "source": [
        "###################################################################\n",
        "# SVM - Support Vector Machines (Máquinas de Vetores de Suporte ) #\n",
        "###################################################################\n",
        "from sklearn import svm\n",
        "\n",
        "svm = svm.SVC()\n",
        "svm.fit(X_train, y_train)\n",
        "classificacoes_svm = svm.predict(X_test)\n",
        "\n",
        "acertos_svm = metrics.accuracy_score(y_test, classificacoes_svm)\n",
        "print('Taxa de acerto = ',round(acertos_svm*100,2),\"%\")\n",
        "\n",
        "print('Matriz de confusão:')\n",
        "cm_svm = ConfusionMatrixDisplay.from_estimator(svm, X_test, y_test)"
      ],
      "metadata": {
        "colab": {
          "base_uri": "https://localhost:8080/",
          "height": 314
        },
        "id": "VJ1tB2MLTLQw",
        "outputId": "22670553-14b9-4be8-cbd3-9a4cda98912f"
      },
      "execution_count": 47,
      "outputs": [
        {
          "output_type": "stream",
          "name": "stdout",
          "text": [
            "Taxa de acerto =  83.62 %\n",
            "Matriz de confusão:\n"
          ]
        },
        {
          "output_type": "display_data",
          "data": {
            "text/plain": [
              "<Figure size 432x288 with 2 Axes>"
            ],
            "image/png": "[encoded data removed]"
          },
          "metadata": {
            "needs_background": "light"
          }
        }
      ]
    },
    {
      "cell_type": "code",
      "source": [
        "#################\n",
        "# Random Forest #\n",
        "#################\n",
        "from sklearn.ensemble import RandomForestClassifier\n",
        "\n",
        "# n_estimators é o número de arvores de decisao que ele vai implementar\n",
        "rf = RandomForestClassifier(n_estimators = 10, random_state = 42)\n",
        "rf.fit(X_train, y_train)\n",
        "classificacoes_rf = rf.predict(X_test)\n",
        "\n",
        "acertos_rf = metrics.accuracy_score(y_test, classificacoes_rf)\n",
        "print('Taxa de acerto = ',round(acertos_rf*100,2),\"%\")\n",
        "\n",
        "print('Matriz de confusão:')\n",
        "cm_rf = ConfusionMatrixDisplay.from_estimator(rf, X_test, y_test)"
      ],
      "metadata": {
        "colab": {
          "base_uri": "https://localhost:8080/",
          "height": 314
        },
        "id": "-6Q8CU3kVgHc",
        "outputId": "70631e13-e7fd-403c-fab2-6f31ca0f0e91"
      },
      "execution_count": 48,
      "outputs": [
        {
          "output_type": "stream",
          "name": "stdout",
          "text": [
            "Taxa de acerto =  84.94 %\n",
            "Matriz de confusão:\n"
          ]
        },
        {
          "output_type": "display_data",
          "data": {
            "text/plain": [
              "<Figure size 432x288 with 2 Axes>"
            ],
            "image/png": "[encoded data removed]"
          },
          "metadata": {
            "needs_background": "light"
          }
        }
      ]
    },
    {
      "cell_type": "markdown",
      "source": [
        "# **Tarefa 5.4 - Projeto: predição Churn - Churn_Modelling** | *Lucas Omar*"
      ],
      "metadata": {
        "id": "EIobUJROG4uc"
      }
    },
    {
      "cell_type": "markdown",
      "source": [
        "**1. Os 3 primeiros atributos devem ser excluídos (RowNumber, CustomerId e Surname)**\n",
        "\n",
        "[*>> Feito nesta Célula*](https://colab.research.google.com/drive/1COxYe-w-MAbLTs2-OWTFDx5agcC9xyeg?authuser=1#scrollTo=8zKyD8esevJK&line=9&uniqifier=1)"
      ],
      "metadata": {
        "id": "IxYExcviHQA5"
      }
    },
    {
      "cell_type": "markdown",
      "source": [
        "**2. Os dados devem ser pré-processados (recuperar o que foi feito na Tarefa 5.1)**\n",
        "\n",
        "[*>> Feito nesta Célula*](https://colab.research.google.com/drive/1COxYe-w-MAbLTs2-OWTFDx5agcC9xyeg?authuser=1#scrollTo=_QysirvzGiDA)\n"
      ],
      "metadata": {
        "id": "PVv9Txx6Hei_"
      }
    },
    {
      "cell_type": "markdown",
      "source": [
        "**3. Divida o conjunto de dados em treino (75%) e teste (25%);**\n",
        "\n",
        "[*>> Feito nesta Célula*](https://colab.research.google.com/drive/1COxYe-w-MAbLTs2-OWTFDx5agcC9xyeg?authuser=1#scrollTo=exKQLpgU0pKT)"
      ],
      "metadata": {
        "id": "xAYzSmZAHjrx"
      }
    },
    {
      "cell_type": "markdown",
      "source": [
        "## **Predição**"
      ],
      "metadata": {
        "id": "wZBki2DIJtME"
      }
    },
    {
      "cell_type": "code",
      "source": [
        "####################################\n",
        "# Criação do modelo de rede neural #\n",
        "####################################\n",
        "\n",
        "from keras.layers import Dense\n",
        "from keras.models import Sequential\n",
        "from sklearn.model_selection import cross_val_score\n",
        "\n",
        "model = Sequential()\n",
        "# 1a. camada escondida com 32 neurônios - 11 entradas (atributos)\n",
        "model.add(Dense(32, input_dim=11, kernel_initializer = 'he_uniform', activation='relu'))\n",
        "# 2a. camada escondida com 16 neurônios\n",
        "model.add(Dense(16, kernel_initializer = 'he_uniform', activation='relu'))\n",
        "# Camada de saída com 01 neurônio - Classificação binária (Democrat or Republican)\n",
        "model.add(Dense(1, activation='sigmoid'))\n",
        "# Sumário do modelo\n",
        "model.summary()"
      ],
      "metadata": {
        "colab": {
          "base_uri": "https://localhost:8080/"
        },
        "id": "pljMdf92GWdB",
        "outputId": "582567d7-641f-44b1-f85f-1f733cacaa76"
      },
      "execution_count": 49,
      "outputs": [
        {
          "output_type": "stream",
          "name": "stdout",
          "text": [
            "Model: \"sequential_2\"\n",
            "_________________________________________________________________\n",
            " Layer (type)                Output Shape              Param #   \n",
            "=================================================================\n",
            " dense_6 (Dense)             (None, 32)                384       \n",
            "                                                                 \n",
            " dense_7 (Dense)             (None, 16)                528       \n",
            "                                                                 \n",
            " dense_8 (Dense)             (None, 1)                 17        \n",
            "                                                                 \n",
            "=================================================================\n",
            "Total params: 929\n",
            "Trainable params: 929\n",
            "Non-trainable params: 0\n",
            "_________________________________________________________________\n"
          ]
        }
      ]
    },
    {
      "cell_type": "code",
      "source": [
        "####################\n",
        "# Compila o modelo #\n",
        "####################\n",
        "\n",
        "from tensorflow.keras.optimizers import SGD\n",
        "\n",
        "model.compile(optimizer=SGD(learning_rate=0.25), loss='mean_squared_error', metrics=['accuracy'])"
      ],
      "metadata": {
        "id": "Losp84pgGZph"
      },
      "execution_count": 50,
      "outputs": []
    },
    {
      "cell_type": "code",
      "source": [
        "###################\n",
        "# Treina o modelo #\n",
        "###################\n",
        "\n",
        "history = model.fit(X_train, y_train, epochs=100, batch_size = 8, validation_data=(X_test, y_test))"
      ],
      "metadata": {
        "colab": {
          "base_uri": "https://localhost:8080/"
        },
        "id": "N49VlUctGaaz",
        "outputId": "f5aa39fc-f839-4982-c8ce-d116ce0fba12"
      },
      "execution_count": 51,
      "outputs": [
        {
          "output_type": "stream",
          "name": "stdout",
          "text": [
            "Epoch 1/100\n",
            "937/937 [==============================] - 2s 2ms/step - loss: 0.1528 - accuracy: 0.7977 - val_loss: 0.1709 - val_accuracy: 0.7601\n",
            "Epoch 2/100\n",
            "937/937 [==============================] - 3s 3ms/step - loss: 0.1398 - accuracy: 0.8112 - val_loss: 0.1413 - val_accuracy: 0.8094\n",
            "Epoch 3/100\n",
            "937/937 [==============================] - 2s 2ms/step - loss: 0.1322 - accuracy: 0.8251 - val_loss: 0.1455 - val_accuracy: 0.8038\n",
            "Epoch 4/100\n",
            "937/937 [==============================] - 2s 2ms/step - loss: 0.1211 - accuracy: 0.8386 - val_loss: 0.1251 - val_accuracy: 0.8342\n",
            "Epoch 5/100\n",
            "937/937 [==============================] - 2s 2ms/step - loss: 0.1138 - accuracy: 0.8503 - val_loss: 0.1277 - val_accuracy: 0.8286\n",
            "Epoch 6/100\n",
            "937/937 [==============================] - 2s 2ms/step - loss: 0.1114 - accuracy: 0.8523 - val_loss: 0.1597 - val_accuracy: 0.8126\n",
            "Epoch 7/100\n",
            "937/937 [==============================] - 2s 2ms/step - loss: 0.1096 - accuracy: 0.8530 - val_loss: 0.1155 - val_accuracy: 0.8466\n",
            "Epoch 8/100\n",
            "937/937 [==============================] - 3s 3ms/step - loss: 0.1081 - accuracy: 0.8557 - val_loss: 0.1146 - val_accuracy: 0.8490\n",
            "Epoch 9/100\n",
            "937/937 [==============================] - 3s 3ms/step - loss: 0.1080 - accuracy: 0.8569 - val_loss: 0.1154 - val_accuracy: 0.8470\n",
            "Epoch 10/100\n",
            "937/937 [==============================] - 2s 2ms/step - loss: 0.1073 - accuracy: 0.8557 - val_loss: 0.1178 - val_accuracy: 0.8438\n",
            "Epoch 11/100\n",
            "937/937 [==============================] - 2s 2ms/step - loss: 0.1067 - accuracy: 0.8601 - val_loss: 0.1195 - val_accuracy: 0.8430\n",
            "Epoch 12/100\n",
            "937/937 [==============================] - 2s 2ms/step - loss: 0.1062 - accuracy: 0.8558 - val_loss: 0.1140 - val_accuracy: 0.8526\n",
            "Epoch 13/100\n",
            "937/937 [==============================] - 2s 2ms/step - loss: 0.1059 - accuracy: 0.8558 - val_loss: 0.1307 - val_accuracy: 0.8358\n",
            "Epoch 14/100\n",
            "937/937 [==============================] - 2s 2ms/step - loss: 0.1048 - accuracy: 0.8602 - val_loss: 0.1144 - val_accuracy: 0.8502\n",
            "Epoch 15/100\n",
            "937/937 [==============================] - 2s 2ms/step - loss: 0.1053 - accuracy: 0.8607 - val_loss: 0.1147 - val_accuracy: 0.8494\n",
            "Epoch 16/100\n",
            "937/937 [==============================] - 2s 2ms/step - loss: 0.1039 - accuracy: 0.8643 - val_loss: 0.1200 - val_accuracy: 0.8430\n",
            "Epoch 17/100\n",
            "937/937 [==============================] - 2s 2ms/step - loss: 0.1037 - accuracy: 0.8622 - val_loss: 0.1139 - val_accuracy: 0.8498\n",
            "Epoch 18/100\n",
            "937/937 [==============================] - 2s 2ms/step - loss: 0.1029 - accuracy: 0.8629 - val_loss: 0.1204 - val_accuracy: 0.8370\n",
            "Epoch 19/100\n",
            "937/937 [==============================] - 2s 2ms/step - loss: 0.1030 - accuracy: 0.8639 - val_loss: 0.1235 - val_accuracy: 0.8278\n",
            "Epoch 20/100\n",
            "937/937 [==============================] - 2s 2ms/step - loss: 0.1040 - accuracy: 0.8607 - val_loss: 0.1134 - val_accuracy: 0.8518\n",
            "Epoch 21/100\n",
            "937/937 [==============================] - 2s 2ms/step - loss: 0.1027 - accuracy: 0.8614 - val_loss: 0.1177 - val_accuracy: 0.8482\n",
            "Epoch 22/100\n",
            "937/937 [==============================] - 2s 2ms/step - loss: 0.1031 - accuracy: 0.8607 - val_loss: 0.1128 - val_accuracy: 0.8470\n",
            "Epoch 23/100\n",
            "937/937 [==============================] - 2s 2ms/step - loss: 0.1025 - accuracy: 0.8627 - val_loss: 0.1193 - val_accuracy: 0.8394\n",
            "Epoch 24/100\n",
            "937/937 [==============================] - 2s 2ms/step - loss: 0.1021 - accuracy: 0.8635 - val_loss: 0.1228 - val_accuracy: 0.8374\n",
            "Epoch 25/100\n",
            "937/937 [==============================] - 2s 2ms/step - loss: 0.1018 - accuracy: 0.8658 - val_loss: 0.1175 - val_accuracy: 0.8466\n",
            "Epoch 26/100\n",
            "937/937 [==============================] - 2s 2ms/step - loss: 0.1019 - accuracy: 0.8631 - val_loss: 0.1147 - val_accuracy: 0.8498\n",
            "Epoch 27/100\n",
            "937/937 [==============================] - 3s 3ms/step - loss: 0.1016 - accuracy: 0.8653 - val_loss: 0.1120 - val_accuracy: 0.8506\n",
            "Epoch 28/100\n",
            "937/937 [==============================] - 2s 2ms/step - loss: 0.1006 - accuracy: 0.8663 - val_loss: 0.1102 - val_accuracy: 0.8522\n",
            "Epoch 29/100\n",
            "937/937 [==============================] - 2s 2ms/step - loss: 0.1003 - accuracy: 0.8665 - val_loss: 0.1167 - val_accuracy: 0.8482\n",
            "Epoch 30/100\n",
            "937/937 [==============================] - 2s 2ms/step - loss: 0.1003 - accuracy: 0.8645 - val_loss: 0.1111 - val_accuracy: 0.8498\n",
            "Epoch 31/100\n",
            "937/937 [==============================] - 2s 2ms/step - loss: 0.1002 - accuracy: 0.8645 - val_loss: 0.1118 - val_accuracy: 0.8446\n",
            "Epoch 32/100\n",
            "937/937 [==============================] - 2s 2ms/step - loss: 0.0996 - accuracy: 0.8681 - val_loss: 0.1124 - val_accuracy: 0.8494\n",
            "Epoch 33/100\n",
            "937/937 [==============================] - 2s 2ms/step - loss: 0.0992 - accuracy: 0.8697 - val_loss: 0.1182 - val_accuracy: 0.8438\n",
            "Epoch 34/100\n",
            "937/937 [==============================] - 2s 2ms/step - loss: 0.0987 - accuracy: 0.8671 - val_loss: 0.1122 - val_accuracy: 0.8506\n",
            "Epoch 35/100\n",
            "937/937 [==============================] - 2s 2ms/step - loss: 0.0991 - accuracy: 0.8675 - val_loss: 0.1188 - val_accuracy: 0.8390\n",
            "Epoch 36/100\n",
            "937/937 [==============================] - 2s 2ms/step - loss: 0.0990 - accuracy: 0.8675 - val_loss: 0.1102 - val_accuracy: 0.8490\n",
            "Epoch 37/100\n",
            "937/937 [==============================] - 2s 2ms/step - loss: 0.0995 - accuracy: 0.8665 - val_loss: 0.1110 - val_accuracy: 0.8538\n",
            "Epoch 38/100\n",
            "937/937 [==============================] - 2s 2ms/step - loss: 0.0980 - accuracy: 0.8705 - val_loss: 0.1139 - val_accuracy: 0.8494\n",
            "Epoch 39/100\n",
            "937/937 [==============================] - 2s 2ms/step - loss: 0.0989 - accuracy: 0.8679 - val_loss: 0.1135 - val_accuracy: 0.8434\n",
            "Epoch 40/100\n",
            "937/937 [==============================] - 2s 2ms/step - loss: 0.0990 - accuracy: 0.8669 - val_loss: 0.1108 - val_accuracy: 0.8502\n",
            "Epoch 41/100\n",
            "937/937 [==============================] - 2s 2ms/step - loss: 0.0983 - accuracy: 0.8693 - val_loss: 0.1132 - val_accuracy: 0.8502\n",
            "Epoch 42/100\n",
            "937/937 [==============================] - 2s 2ms/step - loss: 0.0986 - accuracy: 0.8661 - val_loss: 0.1172 - val_accuracy: 0.8426\n",
            "Epoch 43/100\n",
            "937/937 [==============================] - 2s 2ms/step - loss: 0.0978 - accuracy: 0.8710 - val_loss: 0.1119 - val_accuracy: 0.8470\n",
            "Epoch 44/100\n",
            "937/937 [==============================] - 2s 2ms/step - loss: 0.0978 - accuracy: 0.8677 - val_loss: 0.1153 - val_accuracy: 0.8486\n",
            "Epoch 45/100\n",
            "937/937 [==============================] - 2s 2ms/step - loss: 0.0973 - accuracy: 0.8714 - val_loss: 0.1120 - val_accuracy: 0.8506\n",
            "Epoch 46/100\n",
            "937/937 [==============================] - 2s 2ms/step - loss: 0.0975 - accuracy: 0.8711 - val_loss: 0.1111 - val_accuracy: 0.8502\n",
            "Epoch 47/100\n",
            "937/937 [==============================] - 2s 2ms/step - loss: 0.0972 - accuracy: 0.8719 - val_loss: 0.1284 - val_accuracy: 0.8362\n",
            "Epoch 48/100\n",
            "937/937 [==============================] - 3s 4ms/step - loss: 0.0975 - accuracy: 0.8695 - val_loss: 0.1141 - val_accuracy: 0.8494\n",
            "Epoch 49/100\n",
            "937/937 [==============================] - 3s 3ms/step - loss: 0.0975 - accuracy: 0.8707 - val_loss: 0.1137 - val_accuracy: 0.8522\n",
            "Epoch 50/100\n",
            "937/937 [==============================] - 3s 3ms/step - loss: 0.0967 - accuracy: 0.8702 - val_loss: 0.1376 - val_accuracy: 0.8162\n",
            "Epoch 51/100\n",
            "937/937 [==============================] - 2s 3ms/step - loss: 0.0971 - accuracy: 0.8729 - val_loss: 0.1129 - val_accuracy: 0.8438\n",
            "Epoch 52/100\n",
            "937/937 [==============================] - 2s 2ms/step - loss: 0.0971 - accuracy: 0.8711 - val_loss: 0.1093 - val_accuracy: 0.8534\n",
            "Epoch 53/100\n",
            "937/937 [==============================] - 2s 2ms/step - loss: 0.0966 - accuracy: 0.8725 - val_loss: 0.1181 - val_accuracy: 0.8458\n",
            "Epoch 54/100\n",
            "937/937 [==============================] - 2s 2ms/step - loss: 0.0963 - accuracy: 0.8715 - val_loss: 0.1132 - val_accuracy: 0.8490\n",
            "Epoch 55/100\n",
            "937/937 [==============================] - 2s 2ms/step - loss: 0.0968 - accuracy: 0.8711 - val_loss: 0.1135 - val_accuracy: 0.8482\n",
            "Epoch 56/100\n",
            "937/937 [==============================] - 2s 2ms/step - loss: 0.0959 - accuracy: 0.8758 - val_loss: 0.1130 - val_accuracy: 0.8446\n",
            "Epoch 57/100\n",
            "937/937 [==============================] - 2s 2ms/step - loss: 0.0963 - accuracy: 0.8685 - val_loss: 0.1140 - val_accuracy: 0.8438\n",
            "Epoch 58/100\n",
            "937/937 [==============================] - 2s 2ms/step - loss: 0.0965 - accuracy: 0.8714 - val_loss: 0.1176 - val_accuracy: 0.8462\n",
            "Epoch 59/100\n",
            "937/937 [==============================] - 2s 2ms/step - loss: 0.0962 - accuracy: 0.8713 - val_loss: 0.1112 - val_accuracy: 0.8530\n",
            "Epoch 60/100\n",
            "937/937 [==============================] - 3s 3ms/step - loss: 0.0965 - accuracy: 0.8722 - val_loss: 0.1115 - val_accuracy: 0.8534\n",
            "Epoch 61/100\n",
            "937/937 [==============================] - 3s 3ms/step - loss: 0.0952 - accuracy: 0.8756 - val_loss: 0.1132 - val_accuracy: 0.8470\n",
            "Epoch 62/100\n",
            "937/937 [==============================] - 3s 3ms/step - loss: 0.0962 - accuracy: 0.8737 - val_loss: 0.1125 - val_accuracy: 0.8522\n",
            "Epoch 63/100\n",
            "937/937 [==============================] - 2s 2ms/step - loss: 0.0957 - accuracy: 0.8738 - val_loss: 0.1135 - val_accuracy: 0.8434\n",
            "Epoch 64/100\n",
            "937/937 [==============================] - 2s 2ms/step - loss: 0.0954 - accuracy: 0.8743 - val_loss: 0.1134 - val_accuracy: 0.8526\n",
            "Epoch 65/100\n",
            "937/937 [==============================] - 3s 3ms/step - loss: 0.0956 - accuracy: 0.8737 - val_loss: 0.1545 - val_accuracy: 0.7733\n",
            "Epoch 66/100\n",
            "937/937 [==============================] - 2s 2ms/step - loss: 0.0948 - accuracy: 0.8749 - val_loss: 0.1184 - val_accuracy: 0.8442\n",
            "Epoch 67/100\n",
            "937/937 [==============================] - 2s 2ms/step - loss: 0.0946 - accuracy: 0.8735 - val_loss: 0.1140 - val_accuracy: 0.8414\n",
            "Epoch 68/100\n",
            "937/937 [==============================] - 2s 2ms/step - loss: 0.0949 - accuracy: 0.8743 - val_loss: 0.1143 - val_accuracy: 0.8414\n",
            "Epoch 69/100\n",
            "937/937 [==============================] - 2s 2ms/step - loss: 0.0946 - accuracy: 0.8735 - val_loss: 0.1149 - val_accuracy: 0.8482\n",
            "Epoch 70/100\n",
            "937/937 [==============================] - 2s 2ms/step - loss: 0.0940 - accuracy: 0.8752 - val_loss: 0.1132 - val_accuracy: 0.8474\n",
            "Epoch 71/100\n",
            "937/937 [==============================] - 2s 2ms/step - loss: 0.0950 - accuracy: 0.8721 - val_loss: 0.1148 - val_accuracy: 0.8438\n",
            "Epoch 72/100\n",
            "937/937 [==============================] - 2s 2ms/step - loss: 0.0940 - accuracy: 0.8765 - val_loss: 0.1126 - val_accuracy: 0.8522\n",
            "Epoch 73/100\n",
            "937/937 [==============================] - 2s 2ms/step - loss: 0.0934 - accuracy: 0.8792 - val_loss: 0.1303 - val_accuracy: 0.8262\n",
            "Epoch 74/100\n",
            "937/937 [==============================] - 2s 2ms/step - loss: 0.0953 - accuracy: 0.8733 - val_loss: 0.1122 - val_accuracy: 0.8538\n",
            "Epoch 75/100\n",
            "937/937 [==============================] - 2s 2ms/step - loss: 0.0940 - accuracy: 0.8757 - val_loss: 0.1147 - val_accuracy: 0.8466\n",
            "Epoch 76/100\n",
            "937/937 [==============================] - 2s 2ms/step - loss: 0.0946 - accuracy: 0.8750 - val_loss: 0.1154 - val_accuracy: 0.8498\n",
            "Epoch 77/100\n",
            "937/937 [==============================] - 2s 2ms/step - loss: 0.0941 - accuracy: 0.8758 - val_loss: 0.1119 - val_accuracy: 0.8470\n",
            "Epoch 78/100\n",
            "937/937 [==============================] - 2s 2ms/step - loss: 0.0934 - accuracy: 0.8773 - val_loss: 0.1141 - val_accuracy: 0.8450\n",
            "Epoch 79/100\n",
            "937/937 [==============================] - 2s 2ms/step - loss: 0.0940 - accuracy: 0.8756 - val_loss: 0.1142 - val_accuracy: 0.8490\n",
            "Epoch 80/100\n",
            "937/937 [==============================] - 2s 2ms/step - loss: 0.0943 - accuracy: 0.8761 - val_loss: 0.1233 - val_accuracy: 0.8334\n",
            "Epoch 81/100\n",
            "937/937 [==============================] - 2s 2ms/step - loss: 0.0935 - accuracy: 0.8773 - val_loss: 0.1158 - val_accuracy: 0.8486\n",
            "Epoch 82/100\n",
            "937/937 [==============================] - 2s 2ms/step - loss: 0.0940 - accuracy: 0.8760 - val_loss: 0.1131 - val_accuracy: 0.8482\n",
            "Epoch 83/100\n",
            "937/937 [==============================] - 2s 2ms/step - loss: 0.0930 - accuracy: 0.8782 - val_loss: 0.1236 - val_accuracy: 0.8282\n",
            "Epoch 84/100\n",
            "937/937 [==============================] - 2s 2ms/step - loss: 0.0930 - accuracy: 0.8760 - val_loss: 0.1140 - val_accuracy: 0.8478\n",
            "Epoch 85/100\n",
            "937/937 [==============================] - 2s 2ms/step - loss: 0.0927 - accuracy: 0.8754 - val_loss: 0.1334 - val_accuracy: 0.8170\n",
            "Epoch 86/100\n",
            "937/937 [==============================] - 2s 2ms/step - loss: 0.0939 - accuracy: 0.8743 - val_loss: 0.1127 - val_accuracy: 0.8490\n",
            "Epoch 87/100\n",
            "937/937 [==============================] - 2s 2ms/step - loss: 0.0934 - accuracy: 0.8772 - val_loss: 0.1139 - val_accuracy: 0.8466\n",
            "Epoch 88/100\n",
            "937/937 [==============================] - 2s 2ms/step - loss: 0.0926 - accuracy: 0.8792 - val_loss: 0.1133 - val_accuracy: 0.8474\n",
            "Epoch 89/100\n",
            "937/937 [==============================] - 2s 2ms/step - loss: 0.0927 - accuracy: 0.8768 - val_loss: 0.1141 - val_accuracy: 0.8546\n",
            "Epoch 90/100\n",
            "937/937 [==============================] - 2s 2ms/step - loss: 0.0919 - accuracy: 0.8784 - val_loss: 0.1160 - val_accuracy: 0.8450\n",
            "Epoch 91/100\n",
            "937/937 [==============================] - 2s 2ms/step - loss: 0.0926 - accuracy: 0.8780 - val_loss: 0.1173 - val_accuracy: 0.8506\n",
            "Epoch 92/100\n",
            "937/937 [==============================] - 2s 2ms/step - loss: 0.0929 - accuracy: 0.8772 - val_loss: 0.1134 - val_accuracy: 0.8510\n",
            "Epoch 93/100\n",
            "937/937 [==============================] - 2s 2ms/step - loss: 0.0913 - accuracy: 0.8793 - val_loss: 0.1183 - val_accuracy: 0.8390\n",
            "Epoch 94/100\n",
            "937/937 [==============================] - 2s 2ms/step - loss: 0.0921 - accuracy: 0.8797 - val_loss: 0.1147 - val_accuracy: 0.8498\n",
            "Epoch 95/100\n",
            "937/937 [==============================] - 2s 2ms/step - loss: 0.0920 - accuracy: 0.8802 - val_loss: 0.1182 - val_accuracy: 0.8450\n",
            "Epoch 96/100\n",
            "937/937 [==============================] - 2s 2ms/step - loss: 0.0921 - accuracy: 0.8788 - val_loss: 0.1207 - val_accuracy: 0.8430\n",
            "Epoch 97/100\n",
            "937/937 [==============================] - 2s 2ms/step - loss: 0.0918 - accuracy: 0.8772 - val_loss: 0.1151 - val_accuracy: 0.8522\n",
            "Epoch 98/100\n",
            "937/937 [==============================] - 2s 2ms/step - loss: 0.0925 - accuracy: 0.8788 - val_loss: 0.1201 - val_accuracy: 0.8418\n",
            "Epoch 99/100\n",
            "937/937 [==============================] - 2s 2ms/step - loss: 0.0918 - accuracy: 0.8797 - val_loss: 0.1173 - val_accuracy: 0.8522\n",
            "Epoch 100/100\n",
            "937/937 [==============================] - 2s 3ms/step - loss: 0.0917 - accuracy: 0.8793 - val_loss: 0.1145 - val_accuracy: 0.8530\n"
          ]
        }
      ]
    },
    {
      "cell_type": "markdown",
      "source": [
        "**4. Mostrar os gráficos da função Loss e de Acurácia para os dados de treinamento e teste (validação);**"
      ],
      "metadata": {
        "id": "ONWtx4xdHpAt"
      }
    },
    {
      "cell_type": "code",
      "source": [
        "#######################################\n",
        "# Análise da função loss (erro/perda) #\n",
        "#######################################\n",
        "\n",
        "import matplotlib.pyplot as plt\n",
        "\n",
        "plt.plot(history.history['loss'])\n",
        "plt.plot(history.history['val_loss'], '')\n",
        "plt.xlabel(\"Épocas\")\n",
        "plt.ylabel('Erro/loss')\n",
        "plt.title('Função erro/loss')\n",
        "plt.legend(['loss', 'val_loss'])\n",
        "plt.show()"
      ],
      "metadata": {
        "colab": {
          "base_uri": "https://localhost:8080/",
          "height": 297
        },
        "id": "IkAVDQctGb77",
        "outputId": "77d82957-9e06-47ba-f01c-142397d430fd"
      },
      "execution_count": 52,
      "outputs": [
        {
          "output_type": "display_data",
          "data": {
            "text/plain": [
              "<Figure size 432x288 with 1 Axes>"
            ],
            "image/png": "[encoded data removed]"
          },
          "metadata": {
            "needs_background": "light"
          }
        }
      ]
    },
    {
      "cell_type": "code",
      "source": [
        "###############################################\n",
        "# Análise da métrica de desempenho (acurácia) #\n",
        "###############################################\n",
        "\n",
        "plt.plot(history.history['accuracy'])\n",
        "plt.plot(history.history['val_accuracy'], '')\n",
        "plt.xlabel(\"Épocas\")\n",
        "plt.ylabel('Acurácia')\n",
        "plt.title('Acurácia')\n",
        "plt.legend(['acurácia', 'val_acurácia'])\n",
        "plt.show()"
      ],
      "metadata": {
        "colab": {
          "base_uri": "https://localhost:8080/",
          "height": 297
        },
        "id": "hSdR2sM9GdCT",
        "outputId": "31365aa7-207f-491f-87f2-41bc687ef229"
      },
      "execution_count": 53,
      "outputs": [
        {
          "output_type": "display_data",
          "data": {
            "text/plain": [
              "<Figure size 432x288 with 1 Axes>"
            ],
            "image/png": "[encoded data removed]"
          },
          "metadata": {
            "needs_background": "light"
          }
        }
      ]
    },
    {
      "cell_type": "markdown",
      "source": [
        "**5. Calcule também a matriz de confusão para avaliar o desempenho do modelo.**"
      ],
      "metadata": {
        "id": "SBgbMYGoHs6e"
      }
    },
    {
      "cell_type": "code",
      "source": [
        "#######################################################################################\n",
        "# Classifica os dados de teste + Calcula a matriz de confusão sobre os dados de teste #\n",
        "#######################################################################################\n",
        "from sklearn.metrics import confusion_matrix\n",
        "\n",
        "y_pred = model.predict(X_test)\n",
        "y_pred = (y_pred > 0.5)\n",
        "\n",
        "cm = confusion_matrix(y_test, y_pred)\n",
        "print(cm)"
      ],
      "metadata": {
        "colab": {
          "base_uri": "https://localhost:8080/"
        },
        "id": "pmZlnffvGeBj",
        "outputId": "b5047dd2-f4b7-4bc0-f180-2d5001cc2d8f"
      },
      "execution_count": 54,
      "outputs": [
        {
          "output_type": "stream",
          "name": "stdout",
          "text": [
            "[[1926   57]\n",
            " [ 310  204]]\n"
          ]
        }
      ]
    }
  ]
}